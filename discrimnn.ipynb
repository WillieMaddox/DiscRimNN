{
 "cells": [
  {
   "cell_type": "markdown",
   "metadata": {},
   "source": [
    "# Synopsis\n",
    "The model must be able to read in a sequence of numbers, one number at a time, and classify that number based on all previously seen numbers.\n",
    "\n",
    "## Project TODO Steps\n",
    " 1. create dataset\n",
    "  - create single signal generator class\n",
    "  - create mixed signal generator class\n",
    "  - create noise functions (Gaussian, OU, etc.)\n",
    " 2. create network\n",
    " 3. train network\n",
    " 4. test network\n",
    "\n",
    "## Parameters to test\n",
    " 1. sequence length\n",
    " 2. amplitude\n",
    " 3. frequency (period)\n",
    " 4. offset\n",
    " 5. phase\n",
    " 6. noise\n",
    " \n",
    "## Questions to answer\n",
    " 1. What would a batch look like?\n",
    " 2. How many LSTM layers do we need? nodes per LSTM layer?\n",
    " 3. Can we learn if our timestamps are not uniformly spaced."
   ]
  },
  {
   "cell_type": "code",
   "execution_count": null,
   "metadata": {},
   "outputs": [],
   "source": [
    "import numpy as np\n",
    "import pandas as pd\n",
    "from random import random\n",
    "\n",
    "import matplotlib.pyplot as plt\n",
    "%matplotlib inline"
   ]
  },
  {
   "cell_type": "code",
   "execution_count": null,
   "metadata": {},
   "outputs": [],
   "source": [
    "from keras.models import Sequential\n",
    "from keras.layers import LSTM\n",
    "from keras.layers import Dense\n",
    "from keras.layers import Masking\n",
    "from keras.utils.np_utils import to_categorical"
   ]
  },
  {
   "cell_type": "code",
   "execution_count": null,
   "metadata": {},
   "outputs": [],
   "source": [
    "SMALL_SIZE = 10\n",
    "MEDIUM_SIZE = 12\n",
    "BIGGER_SIZE = 16\n",
    "BIGGEST_SIZE = 20\n",
    "plt.rc('font', size=BIGGEST_SIZE)         # controls default text sizes\n",
    "plt.rc('axes', titlesize=BIGGEST_SIZE)    # fontsize of the axes title\n",
    "plt.rc('axes', labelsize=BIGGEST_SIZE)    # fontsize of the x and y labels\n",
    "plt.rc('xtick', labelsize=BIGGER_SIZE)   # fontsize of the tick labels\n",
    "plt.rc('ytick', labelsize=BIGGER_SIZE)   # fontsize of the tick labels\n",
    "plt.rc('legend', fontsize=MEDIUM_SIZE)   # legend fontsize\n",
    "plt.rc('figure', titlesize=BIGGEST_SIZE)  # fontsize of the figure title"
   ]
  },
  {
   "cell_type": "markdown",
   "metadata": {},
   "source": [
    "## Build a signal generator"
   ]
  },
  {
   "cell_type": "code",
   "execution_count": null,
   "metadata": {},
   "outputs": [],
   "source": [
    "from discrimnn.signal import MixedSignal"
   ]
  },
  {
   "cell_type": "code",
   "execution_count": null,
   "metadata": {},
   "outputs": [],
   "source": [
    "# start off with simplest case for proof of concept\n",
    "n_timesteps = 301\n",
    "\n",
    "sig1_coeffs = {'phase': {'delta': np.pi}, 'amplitude': {'mean': 1.0}, 'period': {'mean': 50.0}, 'offset': {'mean': 0.5}}\n",
    "sig2_coeffs = {'phase': {'delta': np.pi}, 'amplitude': {'mean': 1.0}, 'period': {'mean': 50.0}, 'offset': {'mean': 0.0}}\n",
    "sig3_coeffs = {'phase': {'delta': np.pi}, 'amplitude': {'mean': 1.0}, 'period': {'mean': 50.0}, 'offset': {'mean': -0.5}}\n",
    "sig_coeffs = [sig1_coeffs, sig2_coeffs, sig3_coeffs]\n",
    "msig_coeffs = {'phase': {'mean': 0, 'delta': np.pi}}\n",
    "msig = MixedSignal(0, 150, n_timesteps, sig_coeffs, msig_coeffs)\n",
    "n_signals = len(msig)\n",
    "X, y = msig()\n",
    "\n",
    "print(X.shape, y.shape)\n",
    "\n",
    "for i in range(n_signals):\n",
    "    plt.plot(msig.timestamps, msig.signals[i], marker='.')"
   ]
  },
  {
   "cell_type": "code",
   "execution_count": null,
   "metadata": {},
   "outputs": [],
   "source": [
    "def highlight_column_matches(data, column='', color='yellow'):\n",
    "    '''\n",
    "    highlight the maximum in a Series or DataFrame\n",
    "    '''\n",
    "    attr = 'background-color: {}'.format(color)\n",
    "    if data.ndim == 1:  # Series from .apply(axis=0) or axis=1\n",
    "        is_mixed = data == data[column]\n",
    "        return [attr if v else '' for v in is_mixed]\n",
    "    else:  # from .apply(axis=None)\n",
    "        is_mixed = data == data[column]\n",
    "        return pd.DataFrame(np.where(is_mixed, attr, ''), index=data.index, columns=data.columns)\n",
    "    \n",
    "df = pd.DataFrame(np.vstack((msig.signals, msig.mixed_signal)).T, index=msig.timestamps, columns=['A', 'B', 'C', 'Mixed'])\n",
    "df[:5].style.apply(highlight_column_matches, column='Mixed', color='lightblue', axis=1)"
   ]
  },
  {
   "cell_type": "code",
   "execution_count": null,
   "metadata": {},
   "outputs": [],
   "source": [
    "plt.plot(msig.timestamps, msig.mixed_signal, color='grey', alpha=0.3)\n",
    "plt.scatter(msig.timestamps, msig.mixed_signal, marker='.', c=msig.labels)"
   ]
  },
  {
   "cell_type": "code",
   "execution_count": null,
   "metadata": {
    "scrolled": false
   },
   "outputs": [],
   "source": [
    "# define model\n",
    "model = Sequential()\n",
    "# model.add(Masking(mask_value=-1, input_shape=(1,)))\n",
    "# model.add(LSTM(5))\n",
    "# model.add(LSTM(5, input_shape=(2, 1)))\n",
    "model.add(LSTM(32, return_sequences=True, input_shape=(1, 1)))\n",
    "model.add(LSTM(64, return_sequences=True))\n",
    "model.add(LSTM(32))\n",
    "# model.add(LSTM(5, input_shape=(n_timesteps, 2)))\n",
    "model.add(Dense(n_signals, activation='softmax'))\n",
    "\n",
    "\n",
    "# model.add(LSTM(32, return_sequences=True, input_shape=(timesteps, data_dim)))\n",
    "# model.add(LSTM(32, return_sequences=True))\n",
    "# model.add(LSTM(32))\n",
    "\n",
    "# model.add(LSTM(2048, return_sequences=False, input_shape=self.input_shape, dropout=0.5))\n",
    "# model.add(Dense(512, activation='relu'))\n",
    "# model.add(Dropout(0.5))\n",
    "\n",
    "model.compile(loss='categorical_crossentropy', optimizer='rmsprop', metrics=['accuracy'])\n",
    "# model.compile(loss='binary_crossentropy', optimizer='rmsprop', metrics=['accuracy'])\n",
    "\n",
    "model.summary()\n",
    "for i in range(10):\n",
    "#     X, y = msig.generate_batch(64)\n",
    "    X, y = msig.generate()\n",
    "    model.fit(X, y, epochs=20, batch_size=1, verbose=1, shuffle=False)\n",
    "    model.reset_states()\n",
    "#     model.fit(X, y, epochs=1, batch_size=1, verbose=2)\n",
    "\n",
    "x_test, y_test = msig.generate()\n",
    "score = model.evaluate(x_test, y_test, batch_size=1)\n",
    "print(score)"
   ]
  },
  {
   "cell_type": "code",
   "execution_count": null,
   "metadata": {},
   "outputs": [],
   "source": [
    "y_hat = model.predict(x_test)\n",
    "for i in range(len(x_test)):\n",
    "    print('Expected', y_test[i], 'Predicted', y_hat[i])"
   ]
  },
  {
   "cell_type": "code",
   "execution_count": null,
   "metadata": {
    "scrolled": false
   },
   "outputs": [],
   "source": [
    "x_test, y_test = msig.generate()\n",
    "print(x_test.shape)\n",
    "y_hat = model.predict(x_test)\n",
    "print(y_hat.shape)\n",
    "y_pred = np.argmax(y_hat, axis=1)\n",
    "print(y_pred.shape)\n",
    "y_error = np.max(y_hat, axis=1)\n",
    "# y_error = msig.labels - y_hat\n",
    "print(y_error.shape)\n",
    "plt.plot(msig.timestamps, x_test[:, 0, 0], color='grey', alpha=0.3)\n",
    "plt.scatter(msig.timestamps, x_test[:, 0, 0], marker='.', c=y_pred)\n",
    "plt.show()\n",
    "\n",
    "plt.plot(msig.timestamps, y_error, color='grey', alpha=0.3)\n",
    "plt.scatter(msig.timestamps, y_error, marker='.', c=y_error)\n",
    "plt.show()"
   ]
  }
 ],
 "metadata": {
  "kernelspec": {
   "display_name": "Python 3",
   "language": "python",
   "name": "python3"
  },
  "language_info": {
   "codemirror_mode": {
    "name": "ipython",
    "version": 3
   },
   "file_extension": ".py",
   "mimetype": "text/x-python",
   "name": "python",
   "nbconvert_exporter": "python",
   "pygments_lexer": "ipython3",
   "version": "3.6.3"
  }
 },
 "nbformat": 4,
 "nbformat_minor": 2
}
