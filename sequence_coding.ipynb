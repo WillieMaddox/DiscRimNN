{
 "cells": [
  {
   "cell_type": "markdown",
   "metadata": {
    "slideshow": {
     "slide_type": "skip"
    }
   },
   "source": [
    "## TODO\n",
    " - [ ] come up with a case where the input has 1 feature and output has 1 class.\n",
    "  - This is a binary classification task. (Where do waves from a mix sig overlap?)\n",
    " - [ ] come up with a case where the input has 1 feature and output has 2+ classes.\n",
    "  - Classify the last number in the sequence based on the rest of the sequence.\n",
    " - [ ] come up with a case where the input has 2+ features and output has 1 class.\n",
    "  - Calculate the derivative of each wave and make a new mixed_deriv to go with mixed_signal.\n",
    " - [ ] come up with a case where the input has 2+ features and output has 2+ classes."
   ]
  },
  {
   "cell_type": "markdown",
   "metadata": {},
   "source": [
    "# Possible shapes for inputs.\n",
    "### one input feature\n",
    "```python\n",
    "[1, t, 1]\n",
    "[s, w, 1]\n",
    "[t, 1, 1]\n",
    "```\n",
    "\n",
    "### many input features\n",
    "```python\n",
    "[1, t, f]\n",
    "[s, w, f]\n",
    "[t, 1, f]\n",
    "```"
   ]
  },
  {
   "cell_type": "markdown",
   "metadata": {},
   "source": [
    "# Possible shapes for outputs.\n",
    "### one output class\n",
    "```python\n",
    "[1, t, 1]\n",
    "[s, w, 1]\n",
    "[t, 1, 1]\n",
    "```\n",
    "\n",
    "### many output classes\n",
    "```python\n",
    "[1, t, c]\n",
    "[s, w, c]\n",
    "[t, 1, c]\n",
    "```"
   ]
  },
  {
   "cell_type": "code",
   "execution_count": 89,
   "metadata": {},
   "outputs": [],
   "source": [
    "from collections import defaultdict"
   ]
  },
  {
   "cell_type": "code",
   "execution_count": 82,
   "metadata": {},
   "outputs": [],
   "source": [
    "def bits2shape(bitstr):\n",
    "    shp = None\n",
    "    for bit in bitstr:\n",
    "        if bit in seq_bits:\n",
    "            shp = (seq_bits[bit], ) if shp is None else shp + (seq_bits[bit], )\n",
    "    \n",
    "    return f\"({', '.join(shp)})\""
   ]
  },
  {
   "cell_type": "code",
   "execution_count": 41,
   "metadata": {},
   "outputs": [
    {
     "data": {
      "text/plain": [
       "(117, 729)"
      ]
     },
     "execution_count": 41,
     "metadata": {},
     "output_type": "execute_result"
    }
   ],
   "source": [
    "6*12+5*9, 27*27"
   ]
  },
  {
   "cell_type": "code",
   "execution_count": 98,
   "metadata": {},
   "outputs": [
    {
     "name": "stdout",
     "output_type": "stream",
     "text": [
      " 1 t0\n",
      " 2 x0\n",
      " 3 t1\n",
      " 4 x1\n",
      " 5 0t\n",
      " 6 1t\n",
      " 7 0w\n",
      " 8 1w\n",
      " 9 xw\n"
     ]
    }
   ],
   "source": [
    "in_codes2 = []\n",
    "out_codes2 = []\n",
    "n = 0\n",
    "for j in ['0', '1', 't', 'w']:\n",
    "    for i in ['0', '1', 't', 'x']:\n",
    "        if i in ('0', '1') and j in ('0', '1'):\n",
    "            continue\n",
    "#         if i == '0' or j == '0':\n",
    "#             continue\n",
    "        if i == 't' and j == 't':\n",
    "            continue\n",
    "        if i == 't' and j == 'w':\n",
    "            continue\n",
    "        if i == 'x' and j == 't':\n",
    "            continue\n",
    "\n",
    "        code = ''.join([i, j])\n",
    "        in_codes2.append(code)\n",
    "        out_codes2.append(code)\n",
    "        n += 1\n",
    "        print(f'{n:>2}', code)"
   ]
  },
  {
   "cell_type": "code",
   "execution_count": 65,
   "metadata": {},
   "outputs": [
    {
     "name": "stdout",
     "output_type": "stream",
     "text": [
      "  1 t1_t1\n",
      "  2 x1_x1\n",
      "  3 x1_xw\n",
      "  4 1t_1t\n",
      "  5 1w_1w\n",
      "  6 xw_x1\n",
      "  7 xw_xw\n"
     ]
    }
   ],
   "source": [
    "n = 0\n",
    "for ic in in_codes2:\n",
    "    for oc in out_codes2:\n",
    "        if ic[0] == 'x' and oc[0] != 'x':\n",
    "            continue\n",
    "        if ic[0] != 'x' and oc[0] == 'x':\n",
    "            continue\n",
    "        if 't' in ic and 'w' in oc:\n",
    "            continue\n",
    "        if 'w' in ic and 't' in oc:\n",
    "            continue\n",
    "        if ic.startswith('t1') and oc.startswith('1t'):\n",
    "            continue\n",
    "        if ic.startswith('1t') and oc.startswith('t1'):\n",
    "            continue\n",
    "        n += 1\n",
    "        print(f'{n:>3}', '_'.join([ic, oc]))"
   ]
  },
  {
   "cell_type": "code",
   "execution_count": null,
   "metadata": {},
   "outputs": [],
   "source": [
    "1, 3, 4, 6, 7"
   ]
  },
  {
   "cell_type": "code",
   "execution_count": 94,
   "metadata": {},
   "outputs": [
    {
     "name": "stdout",
     "output_type": "stream",
     "text": [
      " 1 0t0 0t0\n",
      " 2 0t1 0t1\n",
      " 3 0tf 0tc\n",
      " 4 0w0 0w0\n",
      " 5 0w1 0w1\n",
      " 6 0wf 0wc\n",
      " 7 1t0 1t0\n",
      " 8 1t1 1t1\n",
      " 9 1tf 1tc\n",
      "10 1w0 1w0\n",
      "11 1w1 1w1\n",
      "12 1wf 1wc\n",
      "13 t00 t00\n",
      "14 t01 t01\n",
      "15 t0f t0c\n",
      "16 t10 t10\n",
      "17 t11 t11\n",
      "18 t1f t1c\n",
      "19 x00 x00\n",
      "20 x01 x01\n",
      "21 x0f x0c\n",
      "22 x10 x10\n",
      "23 x11 x11\n",
      "24 x1f x1c\n",
      "25 xw0 xw0\n",
      "26 xw1 xw1\n",
      "27 xwf xwc\n"
     ]
    }
   ],
   "source": [
    "in_codes3 = []\n",
    "out_codes3 = []\n",
    "inout_codes3 = []\n",
    "n = 0\n",
    "for i in ['0', '1', 't', 'x']:\n",
    "    for j in ['0', '1', 't', 'w']:\n",
    "        if i in ('0', '1') and j in ('0', '1'):\n",
    "            continue\n",
    "#         if i == '0' or j == '0':\n",
    "#             continue\n",
    "        if i == 't' and j == 't':\n",
    "            continue\n",
    "        if i == 't' and j == 'w':\n",
    "            continue\n",
    "        if i == 'x' and j == 't':\n",
    "            continue\n",
    "        for f, c in zip(['0', '1', 'f'], ['0', '1', 'c']):\n",
    "#             if f == '0':\n",
    "#                 continue\n",
    "            in_code = ''.join([i, j, f])\n",
    "            out_code = ''.join([i, j, c])\n",
    "            \n",
    "            in_codes3.append(in_code)\n",
    "            out_codes3.append(out_code)\n",
    "            \n",
    "            if f == 'f':\n",
    "                inout_codes3.append(in_code)\n",
    "            inout_codes3.append(out_code)\n",
    "            \n",
    "            n += 1\n",
    "            print(f'{n:>2}', in_code, out_code)\n",
    "            \n",
    "#             print(f\"'{in_code}'\")"
   ]
  },
  {
   "cell_type": "code",
   "execution_count": 97,
   "metadata": {},
   "outputs": [
    {
     "data": {
      "text/plain": [
       "['0t0',\n",
       " '0t1',\n",
       " '0tf',\n",
       " '0w0',\n",
       " '0w1',\n",
       " '0wf',\n",
       " '1t0',\n",
       " '1t1',\n",
       " '1tf',\n",
       " '1w0',\n",
       " '1w1',\n",
       " '1wf',\n",
       " 't00',\n",
       " 't01',\n",
       " 't0f',\n",
       " 't10',\n",
       " 't11',\n",
       " 't1f',\n",
       " 'x00',\n",
       " 'x01',\n",
       " 'x0f',\n",
       " 'x10',\n",
       " 'x11',\n",
       " 'x1f',\n",
       " 'xw0',\n",
       " 'xw1',\n",
       " 'xwf']"
      ]
     },
     "execution_count": 97,
     "metadata": {},
     "output_type": "execute_result"
    }
   ],
   "source": [
    "in_codes3"
   ]
  },
  {
   "cell_type": "code",
   "execution_count": 95,
   "metadata": {},
   "outputs": [
    {
     "name": "stdout",
     "output_type": "stream",
     "text": [
      "(n_timestamps) ['0t0', 't00']\n",
      "(n_timestamps, 1) ['0t1', 't01', 't10']\n",
      "(n_timestamps, n_features) ['0tf', 't0f']\n",
      "(n_timestamps, n_classes) ['0tc', 't0c']\n",
      "(n_samples, 1) ['x01', 'x10']\n"
     ]
    }
   ],
   "source": [
    "seq_bits = {\n",
    "    '1': '1',\n",
    "    't': 'n_timestamps',\n",
    "    'x': 'n_samples',\n",
    "    'w': 'window_size',\n",
    "    'f': 'n_features',\n",
    "    'c': 'n_classes',\n",
    "}\n",
    "shp2code = defaultdict(list)\n",
    "for code in inout_codes3:\n",
    "    shp2code[bits2shape(code)].append(code)\n",
    "#     print(code, bits2shape(code))\n",
    "\n",
    "for tup, codes in shp2code.items():\n",
    "    if len(codes) > 1:\n",
    "        print(tup, codes)"
   ]
  },
  {
   "cell_type": "code",
   "execution_count": 96,
   "metadata": {},
   "outputs": [
    {
     "data": {
      "text/plain": [
       "defaultdict(list,\n",
       "            {'(n_timestamps)': ['0t0', 't00'],\n",
       "             '(n_timestamps, 1)': ['0t1', 't01', 't10'],\n",
       "             '(n_timestamps, n_features)': ['0tf', 't0f'],\n",
       "             '(n_timestamps, n_classes)': ['0tc', 't0c'],\n",
       "             '(window_size)': ['0w0'],\n",
       "             '(window_size, 1)': ['0w1'],\n",
       "             '(window_size, n_features)': ['0wf'],\n",
       "             '(window_size, n_classes)': ['0wc'],\n",
       "             '(1, n_timestamps)': ['1t0'],\n",
       "             '(1, n_timestamps, 1)': ['1t1'],\n",
       "             '(1, n_timestamps, n_features)': ['1tf'],\n",
       "             '(1, n_timestamps, n_classes)': ['1tc'],\n",
       "             '(1, window_size)': ['1w0'],\n",
       "             '(1, window_size, 1)': ['1w1'],\n",
       "             '(1, window_size, n_features)': ['1wf'],\n",
       "             '(1, window_size, n_classes)': ['1wc'],\n",
       "             '(n_timestamps, 1, 1)': ['t11'],\n",
       "             '(n_timestamps, 1, n_features)': ['t1f'],\n",
       "             '(n_timestamps, 1, n_classes)': ['t1c'],\n",
       "             '(n_samples)': ['x00'],\n",
       "             '(n_samples, 1)': ['x01', 'x10'],\n",
       "             '(n_samples, n_features)': ['x0f'],\n",
       "             '(n_samples, n_classes)': ['x0c'],\n",
       "             '(n_samples, 1, 1)': ['x11'],\n",
       "             '(n_samples, 1, n_features)': ['x1f'],\n",
       "             '(n_samples, 1, n_classes)': ['x1c'],\n",
       "             '(n_samples, window_size)': ['xw0'],\n",
       "             '(n_samples, window_size, 1)': ['xw1'],\n",
       "             '(n_samples, window_size, n_features)': ['xwf'],\n",
       "             '(n_samples, window_size, n_classes)': ['xwc']})"
      ]
     },
     "execution_count": 96,
     "metadata": {},
     "output_type": "execute_result"
    }
   ],
   "source": [
    "shp2code"
   ]
  },
  {
   "cell_type": "code",
   "execution_count": 69,
   "metadata": {},
   "outputs": [
    {
     "name": "stdout",
     "output_type": "stream",
     "text": [
      "  1 1t1_1t1\n",
      "  2 1t1_1tc\n",
      "  3 1tf_1t1\n",
      "  4 1tf_1tc\n",
      "  5 1w1_1w1\n",
      "  6 1w1_1wc\n",
      "  7 1wf_1w1\n",
      "  8 1wf_1wc\n",
      "  9 t11_t11\n",
      " 10 t11_t1c\n",
      " 11 t1f_t11\n",
      " 12 t1f_t1c\n",
      " 13 x11_x11\n",
      " 14 x11_x1c\n",
      " 15 x11_xw1\n",
      " 16 x11_xwc\n",
      " 17 x1f_x11\n",
      " 18 x1f_x1c\n",
      " 19 x1f_xw1\n",
      " 20 x1f_xwc\n",
      " 21 xw1_x11\n",
      " 22 xw1_x1c\n",
      " 23 xw1_xw1\n",
      " 24 xw1_xwc\n",
      " 25 xwf_x11\n",
      " 26 xwf_x1c\n",
      " 27 xwf_xw1\n",
      " 28 xwf_xwc\n"
     ]
    }
   ],
   "source": [
    "n = 0\n",
    "for ic in in_codes3:\n",
    "    for oc in out_codes3:\n",
    "        if ic[0] == 'x' and oc[0] != 'x':\n",
    "            continue\n",
    "        if ic[0] != 'x' and oc[0] == 'x':\n",
    "            continue\n",
    "        if 't' in ic and 'w' in oc:\n",
    "            continue\n",
    "        if 'w' in ic and 't' in oc:\n",
    "            continue\n",
    "        if ic.startswith('t1') and oc.startswith('1t'):\n",
    "            continue\n",
    "        if ic.startswith('1t') and oc.startswith('t1'):\n",
    "            continue\n",
    "\n",
    "        n += 1\n",
    "        print(f'{n:>3}', '_'.join([ic, oc]))"
   ]
  },
  {
   "cell_type": "code",
   "execution_count": 56,
   "metadata": {},
   "outputs": [
    {
     "name": "stdout",
     "output_type": "stream",
     "text": [
      "one2one\n",
      "1 1 t t1 t11             | 2 binary       t t1 t11        \n",
      "1 1 t t1 t11             | 3 categorical  t1c tc          \n",
      "1 2 t1f tf               | 2 binary       t t1 t11        \n",
      "1 2 t1f tf               | 3 categorical  t1c tc          \n",
      "5 1 x x1 x11             | 2 binary       x x1 x11        \n",
      "5 1 x x1 x11             | 3 categorical  x1c xc          \n",
      "5 2 x1f xf               | 2 binary       x x1 x11        \n",
      "5 2 x1f xf               | 3 categorical  x1c xc          \n",
      "one2many\n",
      "5 1 x x1 x11             | 2 binary       xw xw1          \n",
      "5 1 x x1 x11             | 3 categorical  xwc             \n",
      "5 2 x1f xf               | 2 binary       xw xw1          \n",
      "5 2 x1f xf               | 3 categorical  xwc             \n",
      "many2one\n",
      "5 1 xw xw1               | 2 binary       x x1 x11        \n",
      "5 1 xw xw1               | 3 categorical  x1c xc          \n",
      "5 2 xwf                  | 2 binary       x x1 x11        \n",
      "5 2 xwf                  | 3 categorical  x1c xc          \n",
      "many2many\n",
      "0 1 1t 1t1               | 2 binary       1t 1t1          \n",
      "0 1 1t 1t1               | 3 categorical  1tc             \n",
      "0 2 1tf                  | 2 binary       1t 1t1          \n",
      "0 2 1tf                  | 3 categorical  1tc             \n",
      "5 1 xw xw1               | 2 binary       xw xw1          \n",
      "5 1 xw xw1               | 3 categorical  xwc             \n",
      "5 2 xwf                  | 2 binary       xw xw1          \n",
      "5 2 xwf                  | 3 categorical  xwc             \n",
      "98\n"
     ]
    }
   ],
   "source": [
    "# st = {'one': set(['t', 't0','t1', 'x', 'x0', 'x1']), 'many': set(['1t', 'xw', '1w'])}\n",
    "st = {'one': set(['t', 't0', 't1', 'x', 'x0', 'x1']), 'many': set(['1t', 'xw'])}\n",
    "ct = {'binary': ('1', '0'), 'categorical': ('c',)}\n",
    "total_combos = 0\n",
    "for in_seq in ('one', 'many'):\n",
    "    for out_seq in ('one', 'many'):\n",
    "        print(f'{in_seq}2{out_seq}')\n",
    "        for window_size in (0, 1, 5):\n",
    "            \n",
    "            if window_size == 0:\n",
    "                ws = set(['1t'])\n",
    "            elif window_size == 1:\n",
    "                ws = set(['t', 't0', 't1'])\n",
    "            else:\n",
    "                ws = set(['x', 'x0', 'x1', 'xw'])\n",
    "#                 ws = set(['x', 'x0', 'x1', 'xw', '1w'])\n",
    "\n",
    "            in_base = st[in_seq] & ws\n",
    "            out_base = st[out_seq] & ws\n",
    "            if len(in_base) == 0 or len(out_base) == 0:\n",
    "                continue\n",
    "                \n",
    "            for n_features in (1, 2):\n",
    "\n",
    "                if n_features == 1:\n",
    "                    n_feats = ('1', '0')\n",
    "                elif n_features >= 2:\n",
    "                    n_feats = ('f',)\n",
    "                \n",
    "                in_code = [ib + nf for ib in in_base for nf in n_feats]\n",
    "                if 't10' in in_code and 't01' in in_code:\n",
    "                    in_code.remove('t01')\n",
    "                if 'x10' in in_code and 'x01' in in_code:\n",
    "                    in_code.remove('x01')\n",
    "                if 'tf' in in_code and 't0f' in in_code:\n",
    "                    in_code.remove('t0f')\n",
    "                if 'xf' in in_code and 'x0f' in in_code:\n",
    "                    in_code.remove('x0f')\n",
    "                in_code = set([ic.strip('0') for ic in in_code])\n",
    "\n",
    "                in_str = ' '.join(sorted(in_code))\n",
    "                \n",
    "                for n_classes in (2, 3):\n",
    "\n",
    "                    if n_classes == 2:\n",
    "                        class_type = 'binary'\n",
    "                        n_clas = ('1', '0')\n",
    "                    elif n_classes >= 3:\n",
    "                        class_type = 'categorical'\n",
    "                        n_clas = ('c',)\n",
    "\n",
    "                    out_code = [ob + nc for ob in out_base for nc in n_clas]\n",
    "                    if 't10' in out_code and 't01' in out_code:\n",
    "                        out_code.remove('t01')\n",
    "                    if 'x10' in out_code and 'x01' in out_code:\n",
    "                        out_code.remove('x01')\n",
    "                    if 'tc' in out_code and 't0c' in out_code:\n",
    "                        out_code.remove('t0c')\n",
    "                    if 'xc' in out_code and 'x0c' in out_code:\n",
    "                        out_code.remove('x0c')\n",
    "                    out_code = set([oc.strip('0') for oc in out_code])\n",
    "\n",
    "                    out_str = ' '.join(sorted(out_code))\n",
    "                    \n",
    "                    total_combos += len(in_code) * len(out_code)\n",
    "                    if len(in_code) > 0 and len(out_code) > 0:\n",
    "                        print(f'{window_size} {n_features} {in_str:<20} | {n_classes} {class_type:<12} {out_str:<16}')\n",
    "print(total_combos)"
   ]
  },
  {
   "cell_type": "code",
   "execution_count": 49,
   "metadata": {},
   "outputs": [
    {
     "data": {
      "text/plain": [
       "(48, 189, 155, 126, 98)"
      ]
     },
     "execution_count": 49,
     "metadata": {},
     "output_type": "execute_result"
    }
   ],
   "source": [
    "4*3*2*2, 7*3*3*3, 5*31, 7*3*3*2, 7*7*2"
   ]
  }
 ],
 "metadata": {
  "kernelspec": {
   "display_name": "Python 3",
   "language": "python",
   "name": "python3"
  },
  "language_info": {
   "codemirror_mode": {
    "name": "ipython",
    "version": 3
   },
   "file_extension": ".py",
   "mimetype": "text/x-python",
   "name": "python",
   "nbconvert_exporter": "python",
   "pygments_lexer": "ipython3",
   "version": "3.6.6"
  }
 },
 "nbformat": 4,
 "nbformat_minor": 2
}
