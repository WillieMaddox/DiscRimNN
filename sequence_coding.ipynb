{
 "cells": [
  {
   "cell_type": "markdown",
   "metadata": {
    "slideshow": {
     "slide_type": "skip"
    }
   },
   "source": [
    "## TODO\n",
    " - [ ] come up with a case where the input has 1 feature and output has 1 class.\n",
    "  - This is a binary classification task. (Where do waves from a mix sig overlap?)\n",
    " - [ ] come up with a case where the input has 1 feature and output has 2+ classes.\n",
    "  - Classify the last number in the sequence based on the rest of the sequence.\n",
    " - [ ] come up with a case where the input has 2+ features and output has 1 class.\n",
    "  - Calculate the derivative of each wave and make a new mixed_deriv to go with mixed_signal.\n",
    " - [ ] come up with a case where the input has 2+ features and output has 2+ classes."
   ]
  },
  {
   "cell_type": "markdown",
   "metadata": {},
   "source": [
    "# Possible shapes for inputs.\n",
    "### one input feature\n",
    "```python\n",
    "[1, t, 1]\n",
    "[s, w, 1]\n",
    "[t, 1, 1]\n",
    "```\n",
    "\n",
    "### many input features\n",
    "```python\n",
    "[1, t, f]\n",
    "[s, w, f]\n",
    "[t, 1, f]\n",
    "```"
   ]
  },
  {
   "cell_type": "markdown",
   "metadata": {},
   "source": [
    "# Possible shapes for outputs.\n",
    "### one output class\n",
    "```python\n",
    "[1, t, 1]\n",
    "[s, w, 1]\n",
    "[t, 1, 1]\n",
    "```\n",
    "\n",
    "### many output classes\n",
    "```python\n",
    "[1, t, c]\n",
    "[s, w, c]\n",
    "[t, 1, c]\n",
    "```"
   ]
  },
  {
   "cell_type": "code",
   "execution_count": null,
   "metadata": {},
   "outputs": [],
   "source": [
    "from collections import defaultdict"
   ]
  },
  {
   "cell_type": "code",
   "execution_count": null,
   "metadata": {},
   "outputs": [],
   "source": [
    "def bits2shape(bitstr):\n",
    "    shp = None\n",
    "    for bit in bitstr:\n",
    "        if bit in seq_bits:\n",
    "            shp = (seq_bits[bit], ) if shp is None else shp + (seq_bits[bit], )\n",
    "    \n",
    "    return f\"({', '.join(shp)})\""
   ]
  },
  {
   "cell_type": "code",
   "execution_count": null,
   "metadata": {},
   "outputs": [],
   "source": [
    "6*12+5*9, 27*27"
   ]
  },
  {
   "cell_type": "code",
   "execution_count": null,
   "metadata": {},
   "outputs": [],
   "source": [
    "in_codes2 = []\n",
    "out_codes2 = []\n",
    "n = 0\n",
    "for j in ['0', '1', 't', 'w']:\n",
    "    for i in ['0', '1', 't', 'x']:\n",
    "        if i in ('0', '1') and j in ('0', '1'):\n",
    "            continue\n",
    "#         if i == '0' or j == '0':\n",
    "#             continue\n",
    "        if i == 't' and j == 't':\n",
    "            continue\n",
    "        if i == 't' and j == 'w':\n",
    "            continue\n",
    "        if i == 'x' and j == 't':\n",
    "            continue\n",
    "\n",
    "        code = ''.join([i, j])\n",
    "        in_codes2.append(code)\n",
    "        out_codes2.append(code)\n",
    "        n += 1\n",
    "        print(f'{n:>2}', code)"
   ]
  },
  {
   "cell_type": "code",
   "execution_count": null,
   "metadata": {},
   "outputs": [],
   "source": [
    "n = 0\n",
    "for ic in in_codes2:\n",
    "    for oc in out_codes2:\n",
    "        if ic[0] == 'x' and oc[0] != 'x':\n",
    "            continue\n",
    "        if ic[0] != 'x' and oc[0] == 'x':\n",
    "            continue\n",
    "        if 't' in ic and 'w' in oc:\n",
    "            continue\n",
    "        if 'w' in ic and 't' in oc:\n",
    "            continue\n",
    "        if ic.startswith('t1') and oc.startswith('1t'):\n",
    "            continue\n",
    "        if ic.startswith('1t') and oc.startswith('t1'):\n",
    "            continue\n",
    "        n += 1\n",
    "        print(f'{n:>3}', '_'.join([ic, oc]))"
   ]
  },
  {
   "cell_type": "code",
   "execution_count": null,
   "metadata": {},
   "outputs": [],
   "source": [
    "1, 3, 4, 6, 7"
   ]
  },
  {
   "cell_type": "code",
   "execution_count": null,
   "metadata": {},
   "outputs": [],
   "source": [
    "in_codes3 = []\n",
    "out_codes3 = []\n",
    "inout_codes3 = []\n",
    "n = 0\n",
    "for i in ['0', '1', 't', 'x']:\n",
    "    for j in ['0', '1', 't', 'w']:\n",
    "        if i in ('0', '1') and j in ('0', '1'):\n",
    "            continue\n",
    "        if i == '0' or j == '0':\n",
    "            continue\n",
    "#         if i == '1' and j == 'w':\n",
    "#             continue\n",
    "#         if i == 'w' and j == '1':\n",
    "#             continue\n",
    "        if i == 't' and j == 't':\n",
    "            continue\n",
    "        if i == 't' and j == 'w':\n",
    "            continue\n",
    "        if i == 'x' and j == 't':\n",
    "            continue\n",
    "        for f, c in zip(['1', 'f'], ['1', 'c']):\n",
    "\n",
    "            in_code = ''.join([i, j, f])\n",
    "            out_code = ''.join([i, j, c])\n",
    "            \n",
    "            in_codes3.append(in_code)\n",
    "            out_codes3.append(out_code)\n",
    "            \n",
    "            if f == 'f':\n",
    "                inout_codes3.append(in_code)\n",
    "            inout_codes3.append(out_code)\n",
    "            \n",
    "            n += 1\n",
    "            print(f'{n:>2}', in_code, out_code)\n",
    "            \n",
    "#             print(f\"'{in_code}'\")"
   ]
  },
  {
   "cell_type": "code",
   "execution_count": null,
   "metadata": {},
   "outputs": [],
   "source": [
    "in_codes3"
   ]
  },
  {
   "cell_type": "code",
   "execution_count": null,
   "metadata": {},
   "outputs": [],
   "source": [
    "seq_bits = {\n",
    "    '1': '1',\n",
    "    't': 'n_timestamps',\n",
    "    'x': 'n_samples',\n",
    "    'w': 'window_size',\n",
    "    'f': 'n_features',\n",
    "    'c': 'n_classes',\n",
    "}\n",
    "shp2code = defaultdict(list)\n",
    "for code in inout_codes3:\n",
    "    shp2code[bits2shape(code)].append(code)\n",
    "#     print(code, bits2shape(code))\n",
    "\n",
    "for tup, codes in shp2code.items():\n",
    "    if len(codes) > 1:\n",
    "        print(tup, codes)"
   ]
  },
  {
   "cell_type": "code",
   "execution_count": null,
   "metadata": {},
   "outputs": [],
   "source": [
    "shp2code"
   ]
  },
  {
   "cell_type": "code",
   "execution_count": null,
   "metadata": {},
   "outputs": [],
   "source": [
    "n = 0\n",
    "for ic in in_codes3:\n",
    "    for oc in out_codes3:\n",
    "        if ic[0] == 'x' and oc[0] != 'x':\n",
    "            continue\n",
    "        if ic[0] != 'x' and oc[0] == 'x':\n",
    "            continue\n",
    "        if 't' in ic and 'w' in oc:\n",
    "            continue\n",
    "        if 'w' in ic and 't' in oc:\n",
    "            continue\n",
    "        if ic.startswith('t1') and oc.startswith('1t'):\n",
    "            continue\n",
    "        if ic.startswith('1t') and oc.startswith('t1'):\n",
    "            continue\n",
    "\n",
    "        n += 1\n",
    "        print(f'{n:>3}', '_'.join([ic, oc]))"
   ]
  },
  {
   "cell_type": "code",
   "execution_count": null,
   "metadata": {},
   "outputs": [],
   "source": [
    "# st = {'one': set(['t', 't0','t1', 'x', 'x0', 'x1']), 'many': set(['1t', 'xw', '1w'])}\n",
    "# st = {'one': set(['t', 't0', 't1', 'x', 'x0', 'x1']), 'many': set(['1t', 'xw'])}\n",
    "# st = {'one': set(['t0', 't1', 'x0']), 'many': set(['1t', 'xw'])}\n",
    "st = {'one': set(['t0', 'x0']), 'many': set(['0t', 'xw'])}\n",
    "ct = {'binary': ('1',), 'categorical': ('c',)}\n",
    "total_combos = 0\n",
    "for in_seq in ('one', 'many'):\n",
    "    for out_seq in ('one', 'many'):\n",
    "        print(f'{in_seq}2{out_seq}')\n",
    "        for window_size in (0, 1, 5):\n",
    "            \n",
    "            if window_size == 0:\n",
    "                ws = set(['0t'])\n",
    "            elif window_size == 1:\n",
    "#                 ws = set(['t', 't0'])\n",
    "                ws = set(['t0'])\n",
    "            else:\n",
    "                ws = set(['x0', 'xw'])\n",
    "#                 ws = set(['x', 'x0', 'xw'])\n",
    "#                 ws = set(['x', 'x0', 'x1', 'xw'])\n",
    "#                 ws = set(['x', 'x0', 'x1', 'xw', '1w'])\n",
    "\n",
    "            in_base = st[in_seq] & ws\n",
    "            out_base = st[out_seq] & ws\n",
    "            if len(in_base) == 0 or len(out_base) == 0:\n",
    "                continue\n",
    "                \n",
    "            for n_features in (1, 2):\n",
    "\n",
    "                if n_features == 1:\n",
    "                    n_feats = ('1',)\n",
    "                elif n_features >= 2:\n",
    "                    n_feats = ('f',)\n",
    "                \n",
    "                in_code = [ib + nf for ib in in_base for nf in n_feats]\n",
    "                in_code = set([ic.replace('0', '') for ic in in_code])\n",
    "\n",
    "                in_str = ' '.join(sorted(in_code))\n",
    "                \n",
    "                for n_classes in (1, 2):\n",
    "\n",
    "                    if n_classes == 1:\n",
    "                        class_type = 'binary'\n",
    "                        n_class = ('1',)\n",
    "                    elif n_classes >= 2:\n",
    "                        class_type = 'categorical'\n",
    "                        n_class = ('c',)\n",
    "\n",
    "                    out_code = [ob + nc for ob in out_base for nc in n_class]\n",
    "                    out_code = set([oc.replace('0', '') for oc in out_code])\n",
    "\n",
    "                    out_str = ' '.join(sorted(out_code))\n",
    "                    \n",
    "                    total_combos += len(in_code) * len(out_code)\n",
    "                    if len(in_code) > 0 and len(out_code) > 0:\n",
    "                        print(f'{window_size} {n_features} {n_classes} {\"_\".join([in_str, out_str]):<8}')# | {class_type:<12}')\n",
    "print(total_combos)"
   ]
  },
  {
   "cell_type": "code",
   "execution_count": null,
   "metadata": {},
   "outputs": [],
   "source": [
    "4*3*2*2, 7*3*3*3, 5*31, 7*3*3*2, 7*7*2, 13*3*2, 7*2*2*2, 3*3*2*2, 3*2*2*2"
   ]
  }
 ],
 "metadata": {
  "kernelspec": {
   "display_name": "Python 3",
   "language": "python",
   "name": "python3"
  },
  "language_info": {
   "codemirror_mode": {
    "name": "ipython",
    "version": 3
   },
   "file_extension": ".py",
   "mimetype": "text/x-python",
   "name": "python",
   "nbconvert_exporter": "python",
   "pygments_lexer": "ipython3",
   "version": "3.6.6"
  }
 },
 "nbformat": 4,
 "nbformat_minor": 2
}
