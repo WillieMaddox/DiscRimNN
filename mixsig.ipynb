{
 "cells": [
  {
   "cell_type": "markdown",
   "metadata": {
    "slideshow": {
     "slide_type": "slide"
    }
   },
   "source": [
    "# MixSig\n",
    "## Option 1\n",
    "Create a model that reads a sequence of numbers, one number at a time, and classify that number based on all previously seen numbers.\n",
    "\n",
    "## Option 2\n",
    "Create a model that reads a sequence of numbers and classifies the last number in the sequence based on the previous numbers in the sequence."
   ]
  },
  {
   "cell_type": "markdown",
   "metadata": {
    "slideshow": {
     "slide_type": "slide"
    }
   },
   "source": [
    "## How this project is useful\n",
    " 1. full control over dataset\n",
    " 2. infinite dataset\n",
    " 3. can study all three RNN base problems (classification, prediction, forcasting).\n",
    " "
   ]
  },
  {
   "cell_type": "markdown",
   "metadata": {
    "slideshow": {
     "slide_type": "skip"
    }
   },
   "source": [
    "## Project Steps\n",
    " 1. create dataset\n",
    " 2. create network\n",
    " 3. train network\n",
    " 4. test network"
   ]
  },
  {
   "cell_type": "markdown",
   "metadata": {
    "slideshow": {
     "slide_type": "skip"
    }
   },
   "source": [
    "## TODO\n",
    " - [x] create single signal generator class - A single standalone wave.\n",
    " - [x] create mixed signal generator class - Choose from one wave per timestamp.\n",
    " - [ ] create multi signal generator class - Superposition of multiple waves.\n",
    " - [x] create signal noise functions (Gaussian, etc.)\n",
    " - [x] create timestep noise functions \n",
    " - [x] add legends to plots.\n",
    " - [ ] during training, save outlier X, y train sets to file for further analysis.\n",
    " - [x] save configuration of mixed signal properties as json.\n",
    " - [ ] make plots of the mixed signal with colors mapped to hidden layers, lstm states, etc.\n",
    " - [ ] unit tests with pytest\n",
    " - [ ] unit tests with pytest - args\n",
    " - [ ] unit tests with pytest - kwargs\n",
    " - [ ] unit tests with pytest - random generators\n",
    " - [x] create `startup.py` to handle project directories and other goodies.\n",
    " - [x] fix savefig clipping the bottoms of our figures.\n",
    " - [ ] change `MixedSignal.mixed_signal` to `MixedSignal.inputs`\n",
    " - [ ] come up with a case where the input has 1 feature and output has 1 class.\n",
    "  - This is a binary classification task. (Where do waves from a mix sig overlap?)\n",
    " - [ ] come up with a case where the input has 1 feature and output has 2+ classes.\n",
    "  - Classify the last number in the sequence based on the rest of the sequence.\n",
    " - [ ] come up with a case where the input has 2+ features and output has 1 class.\n",
    "  - Calculate the derivative of each wave and make a new mixed_deriv to go with mixed_signal.\n",
    " - [ ] come up with a case where the input has 2+ features and output has 2+ classes.\n",
    " "
   ]
  },
  {
   "cell_type": "markdown",
   "metadata": {
    "slideshow": {
     "slide_type": "skip"
    }
   },
   "source": [
    "## Data generator parameters to test\n",
    " 1. All 4 wave variables\n",
    "  - amplitude\n",
    "  - frequency (period)\n",
    "  - offset\n",
    "  - phase\n",
    " 2. sequence length\n",
    " 3. signal noise\n",
    " 4. timestep noise\n",
    " 5. number of signals\n",
    " 6. types of signals (single, mixed, multi)"
   ]
  },
  {
   "cell_type": "markdown",
   "metadata": {
    "slideshow": {
     "slide_type": "skip"
    }
   },
   "source": [
    "## Model hyperparameters to test\n",
    " - `n_timestamps`number of timestamps\n",
    " - `window_size` number of timesteps in sub-sequence window\n",
    " - `n_neurons` number of neurons per LSTM\n",
    " - number of LSTM recurrent cells\n",
    " - number of LSTM layers\n",
    " - `n_epochs` number of epochs\n",
    " - `batch_size`\n",
    " - `window_type` Sliding or Boxcar?\n",
    " - `stateful` True or False?"
   ]
  },
  {
   "cell_type": "markdown",
   "metadata": {
    "slideshow": {
     "slide_type": "skip"
    }
   },
   "source": [
    "## Questions to answer\n",
    " Q: What would a batch look like?\n",
    " \n",
    " Q: How many LSTM layers do we need? nodes per LSTM layer?\n",
    " \n",
    " Q: Can we learn if our timestamps are not uniformly spaced.\n",
    " \n",
    " Q: Should we make the LSTM layers stateful?\n",
    " \n",
    " Q: Should we use sliding window or boxcar sequences?\n",
    " \n",
    " Q: For stateful LSTM's must we call `model.reset_states()` after any `model.evaluate()` and/or `model.predict()` calls? \n",
    " \n",
    " A: **YES** Ref: Greenlee's book on LSTM's. p.49"
   ]
  },
  {
   "cell_type": "markdown",
   "metadata": {},
   "source": [
    "## Notes"
   ]
  },
  {
   "cell_type": "code",
   "execution_count": null,
   "metadata": {
    "slideshow": {
     "slide_type": "subslide"
    }
   },
   "outputs": [],
   "source": [
    "import os\n",
    "import sys\n",
    "import time\n",
    "import json\n",
    "import h5py\n",
    "import itertools\n",
    "import numpy as np\n",
    "import pandas as pd\n",
    "from pandas.plotting import table\n",
    "import random\n",
    "\n",
    "import matplotlib.pyplot as plt\n",
    "from mpl_toolkits.axes_grid1 import make_axes_locatable\n",
    "\n",
    "%matplotlib inline\n",
    "\n",
    "# from keras import backend as K\n",
    "from keras.models import Sequential\n",
    "from keras.models import Model\n",
    "from keras.layers import Activation\n",
    "from keras.layers import Input\n",
    "from keras.layers import Dense\n",
    "from keras.layers import Conv1D\n",
    "from keras.layers import Add\n",
    "from keras.layers import LSTM\n",
    "from keras.layers import Reshape\n",
    "from keras.layers import Masking\n",
    "from keras.layers import TimeDistributed\n",
    "from keras.callbacks import ModelCheckpoint\n",
    "from keras.callbacks import CSVLogger\n",
    "from keras.preprocessing.sequence import pad_sequences\n",
    "from IPython.display import SVG\n",
    "from keras.utils.vis_utils import model_to_dot\n",
    "from keras.utils.vis_utils import plot_model\n",
    "from keras.utils.np_utils import to_categorical\n",
    "\n",
    "from mixsig.mixed import MixedSignal\n",
    "from mixsig.mixed import SignalGenerator\n",
    "from mixsig.plot_utils import plot_confusion_matrix"
   ]
  },
  {
   "cell_type": "code",
   "execution_count": null,
   "metadata": {},
   "outputs": [],
   "source": [
    "sys.path.append('/home/maddoxw/git/PhasedLSTM-Keras')\n",
    "from phased_lstm_keras.PhasedLSTM import PLSTM"
   ]
  },
  {
   "cell_type": "code",
   "execution_count": null,
   "metadata": {
    "slideshow": {
     "slide_type": "skip"
    }
   },
   "outputs": [],
   "source": [
    "SMALL_SIZE = 10\n",
    "MEDIUM_SIZE = 12\n",
    "BIGGER_SIZE = 16\n",
    "BIGGEST_SIZE = 20\n",
    "plt.rc('font', size=BIGGEST_SIZE)         # controls default text sizes\n",
    "plt.rc('axes', titlesize=BIGGEST_SIZE)    # fontsize of the axes title\n",
    "plt.rc('axes', labelsize=BIGGEST_SIZE)    # fontsize of the x and y labels\n",
    "plt.rc('xtick', labelsize=BIGGER_SIZE)   # fontsize of the tick labels\n",
    "plt.rc('ytick', labelsize=BIGGER_SIZE)   # fontsize of the tick labels\n",
    "plt.rc('legend', fontsize=MEDIUM_SIZE)   # legend fontsize\n",
    "plt.rc('figure', titlesize=BIGGEST_SIZE)  # fontsize of the figure title"
   ]
  },
  {
   "cell_type": "code",
   "execution_count": null,
   "metadata": {},
   "outputs": [],
   "source": [
    "def highlight_column_matches(data, column='', color='yellow'):\n",
    "    '''\n",
    "    highlight the maximum in a Series or DataFrame\n",
    "    '''\n",
    "    attr = 'background-color: {}'.format(color)\n",
    "    if data.ndim == 1:  # Series from .apply(axis=0) or axis=1\n",
    "        is_mixed = data == data[column]\n",
    "        return [attr if v else '' for v in is_mixed]\n",
    "    else:  # from .apply(axis=None)\n",
    "        is_mixed = data == data[column]\n",
    "        return pd.DataFrame(np.where(is_mixed, attr, ''), index=data.index, columns=data.columns)\n",
    "\n",
    "def plot_stats(csv_filename, columns=['total_reward'], **kwargs):\n",
    "    \"\"\"Plot specified columns from CSV file.\"\"\"\n",
    "    df_stats = pd.read_csv(csv_filename)\n",
    "    df_stats[columns].plot(**kwargs)\n",
    "\n",
    "# Ref http://connor-johnson.com/2014/02/01/smoothing-with-exponentially-weighted-moving-averages/\n",
    "def holt_winters_second_order_ewma(x, span, beta):\n",
    "    N = x.size\n",
    "    alpha = 2.0 / (1 + span)\n",
    "    s = np.zeros((N,))\n",
    "    b = np.zeros((N,))\n",
    "    s[0] = x[0]\n",
    "    for i in range(1, N):\n",
    "        s[i] = alpha * x[i] + (1 - alpha) * (s[i-1] + b[i-1])\n",
    "        b[i] = beta * (s[i] - s[i-1]) + (1 - beta) * b[i-1]\n",
    "    return s\n",
    "\n",
    "def reversed_recombined_holt_winters(x, span=15, beta=0.3):\n",
    "    # take EWMA in both directions with a smaller span term\n",
    "    fwd = holt_winters_second_order_ewma(x, span, beta)\n",
    "    bwd = holt_winters_second_order_ewma(x[::-1], span, beta)\n",
    "    c = np.vstack((fwd, bwd[::-1])) # lump fwd and bwd together\n",
    "    c = np.mean(c, axis=0) # average\n",
    "    return c\n",
    "\n",
    "def save_rnn_layers(hidden_layers, output_layers):\n",
    "    for i, layer in hidden_layers.items():\n",
    "        np.save(os.path.join(vsig.out_dir, 'valid_hidden_layer_' + i + '_output'), hidden_layers[i]['output'])\n",
    "        np.save(os.path.join(vsig.out_dir, 'valid_hidden_layer_' + i + '_state'), hidden_layers[i]['state'])\n",
    "#     np.save(os.path.join(vsig.out_dir, 'valid_hidden_layer_2_output'), hidden_layers['2']['output'])\n",
    "#     np.save(os.path.join(vsig.out_dir, 'valid_hidden_layer_2_state'), hidden_layers['2']['state'])\n",
    "    np.save(os.path.join(vsig.out_dir, 'valid_output_layer'), output_layers)\n",
    "    \n",
    "def save_mlp_layers(hidden_layers, output_layers):\n",
    "    for i, layer in hidden_layers.items():\n",
    "        np.save(os.path.join(vsig.out_dir, 'valid_hidden_layer_' + i + '_output'), layer)\n",
    "    np.save(os.path.join(vsig.out_dir, 'valid_output_layer'), output_layers)\n",
    "    \n",
    "def glance_at_tensor(tensor):\n",
    "    if len(tensor.shape) == 3:\n",
    "        print(tensor[:10, 0, 0])\n",
    "        print(tensor[0, :10, 0])\n",
    "        print(tensor[0, 0, :10])\n",
    "        print('')\n",
    "        print(tensor[-10:, -1, -1])\n",
    "        print(tensor[-1, -10:, -1])\n",
    "        print(tensor[-1, -1, -10:])\n",
    "    elif len(tensor.shape) == 4:\n",
    "        print(tensor[:10, 0, 0, 0])\n",
    "        print(tensor[0, :10, 0, 0])\n",
    "        print(tensor[0, 0, :10, 0])\n",
    "        print(tensor[0, 0, 0, :10])\n",
    "        print('')\n",
    "        print(tensor[-10:, -1, -1, -1])\n",
    "        print(tensor[-1, -10:, -1, -1])\n",
    "        print(tensor[-1, -1, -10:, -1])\n",
    "        print(tensor[-1, -1, -1, -10:])\n",
    "        \n",
    "classifier_activation = {'binary': 'sigmoid', 'categorical': 'softmax'}"
   ]
  },
  {
   "cell_type": "markdown",
   "metadata": {
    "slideshow": {
     "slide_type": "slide"
    }
   },
   "source": [
    "## Build a signal generator\n",
    "\n",
    "The signal generator builds waves using the standard form:"
   ]
  },
  {
   "cell_type": "markdown",
   "metadata": {
    "slideshow": {
     "slide_type": "slide"
    }
   },
   "source": [
    "$$x(t) = A\\sin\\left(2\\pi f t + \\phi\\right) + h$$"
   ]
  },
  {
   "cell_type": "markdown",
   "metadata": {
    "slideshow": {
     "slide_type": "slide"
    }
   },
   "source": [
    "where $A$ is the amplitude (vertical scale), $f$ is the frequency (horizontal scale), $\\phi$ is the phase (horizontal offset) and $h$ is the height (vertical offset). This give us fine grained control over how we construct our waves."
   ]
  },
  {
   "cell_type": "code",
   "execution_count": null,
   "metadata": {},
   "outputs": [],
   "source": [
    "# start off with simplest case for proof of concept\n",
    "wave1_coeffs = {\n",
    "    'amplitude': {'mean': 0.5, 'delta': 0.05}, \n",
    "    'frequency': {'mean': 1.0, 'delta': 0.1},\n",
    "    'offset': {'mean': 0.0, 'delta': 0.1}, \n",
    "    'phase': {'mean': 0.0, 'delta': 1.0},\n",
    "    'name': 'A',\n",
    "    'color': '#0000ff'\n",
    "}\n",
    "wave2_coeffs = {\n",
    "    'amplitude': {'mean': 0.75, 'delta': 0.075}, \n",
    "    'frequency': {'mean': 3.0, 'delta': 0.3},\n",
    "    'offset': {'mean': 0.0, 'delta': 0.1}, \n",
    "    'phase': {'mean': 0.0, 'delta': 1.0},\n",
    "    'name': 'B',\n",
    "    'color': '#ff0000',\n",
    "#     'time': {'t_min': 0, 't_max': 5, 'n_timestamps': 601, 'noise_type': 'pareto', 'pareto_shape': 1.3},\n",
    "}\n",
    "wave3_coeffs = {\n",
    "    'amplitude': {'mean': 1.0, 'delta': 0.1}, \n",
    "    'frequency': {'mean': 8.0, 'delta': 0.8},\n",
    "    'offset': {'mean': 0.0, 'delta': 0.2}, \n",
    "    'phase': {'mean': 0.0, 'delta': 1.0},\n",
    "    'name': 'C',\n",
    "    'color': '#00ff00'\n",
    "}\n",
    "\n",
    "mwave_coeffs = {\n",
    "    'amplitude': {'mean': 1.0, 'delta': 0}, \n",
    "    'frequency': {'mean': 1.0, 'delta': 0}, \n",
    "    'offset': {'mean': 0, 'delta': 0},\n",
    "    'phase': {'mean': 0, 'delta': 1}, \n",
    "    'name': 'mixed_wave',\n",
    "    'time': {'t_min': 0, 't_max': 2, 'n_timestamps': 4096, 'delta': 0}\n",
    "}\n",
    "\n",
    "sigs_coeffs = [wave1_coeffs, wave2_coeffs, wave3_coeffs, mwave_coeffs]\n",
    "\n",
    "features=('x', 'dxdt')\n",
    "batch_size = 128\n",
    "window_size = 4096\n",
    "window_type = 'sliding'\n",
    "network_type = 'TCN'\n",
    "sequence_type = 'many2many'\n",
    "n_groups = 5\n",
    "\n",
    "msig = MixedSignal(\n",
    "    sigs_coeffs, \n",
    "    *features,\n",
    "    window_size=window_size, \n",
    "    window_type=window_type, \n",
    "    network_type=network_type,\n",
    "    sequence_type=sequence_type,\n",
    "    n_groups=n_groups\n",
    ")\n",
    "\n",
    "msig.generate()\n",
    "n_classes = msig.n_classes\n",
    "n_features = msig.n_features\n",
    "# input_shape = (window_size, n_features) # RNN\n",
    "input_shape = (None, n_features) # TCN\n",
    "\n",
    "print(msig.inputs.shape)\n",
    "print(msig.mixed_signal.shape)\n",
    "print(msig.one_hots.shape)\n",
    "print(msig.labels.shape)\n",
    "print(msig.n_timestamps)\n",
    "print(msig.n_samples)"
   ]
  },
  {
   "cell_type": "code",
   "execution_count": null,
   "metadata": {
    "code_folding": [],
    "slideshow": {
     "slide_type": "skip"
    }
   },
   "outputs": [],
   "source": [
    "# df = pd.DataFrame(np.vstack((msig.waves, msig.mixed_signal)).T, index=msig.timestamps, columns=['A', 'B', 'C', 'Mixed'])\n",
    "waves = np.array([sig.generate(msig.timestamps) for sig in msig.waves])\n",
    "df = pd.DataFrame(np.vstack((msig.timestamps, waves, msig.mixed_signal)).T, columns=['time', 'A', 'B', 'C', 'Mixed'])\n",
    "df[:10].style.apply(highlight_column_matches, column='Mixed', color='lightblue', axis=1)"
   ]
  },
  {
   "cell_type": "code",
   "execution_count": null,
   "metadata": {
    "slideshow": {
     "slide_type": "skip"
    }
   },
   "outputs": [],
   "source": [
    "msig.save_config()\n",
    "fig, ax = plt.subplots(nrows=1, ncols=1, figsize=(15, 3))\n",
    "legend_labels = []\n",
    "for wave in msig.waves:\n",
    "    ax.plot(wave.timestamps, wave.sample, marker='.', color=wave.color)\n",
    "    legend_labels.append(wave.name)\n",
    "ax.set_xlim((msig.t_min, msig.t_max))\n",
    "plt.grid(True)\n",
    "ax.legend(legend_labels)\n",
    "plt.savefig(os.path.join(msig.out_dir, 'all_waves_with_truth.png'))\n",
    "plt.show()\n",
    "\n",
    "fig, ax = plt.subplots(nrows=1, ncols=1, figsize=(15, 3))\n",
    "ax.scatter(msig.timestamps, msig.mixed_signal, color='grey', marker='.', alpha=0.5)\n",
    "ax.set_xlim((msig.t_min, msig.t_max))\n",
    "plt.grid(True)\n",
    "ax.legend([msig.name], loc='upper right', bbox_to_anchor=(0.99, 0.99))\n",
    "plt.savefig(os.path.join(msig.out_dir, 'mixed_signal.png'))\n",
    "plt.show()\n",
    "\n",
    "fig, ax = plt.subplots(nrows=1, ncols=1, figsize=(15, 3))\n",
    "ax.plot(msig.timestamps, msig.mixed_signal, color='grey', alpha=0.5)\n",
    "y_test_colors = np.hstack([msig.waves[i].color for i in msig.labels])\n",
    "ax.scatter(msig.timestamps, msig.mixed_signal, marker='.', c=y_test_colors)\n",
    "ax.set_xlim((msig.t_min, msig.t_max))\n",
    "plt.grid(True)\n",
    "plt.savefig(os.path.join(msig.out_dir, 'mixed_signal_with_truth.png'))\n",
    "plt.show()"
   ]
  },
  {
   "cell_type": "markdown",
   "metadata": {
    "slideshow": {
     "slide_type": "skip"
    }
   },
   "source": [
    "# Playground"
   ]
  },
  {
   "cell_type": "code",
   "execution_count": null,
   "metadata": {},
   "outputs": [],
   "source": [
    "model = Sequential()\n",
    "model.add(Dense(32, activation='relu', input_dim=100))\n",
    "model.add(Dense(1, activation='sigmoid'))\n",
    "model.compile(optimizer='rmsprop',\n",
    "              loss='binary_crossentropy',\n",
    "              metrics=['accuracy'])\n",
    "model.summary()\n",
    "# Generate dummy data\n",
    "data = np.random.random((1000, 100))\n",
    "labels = np.random.randint(2, size=(1000, 1))\n",
    "\n",
    "# Train the model, iterating on the data in batches of 32 samples\n",
    "# model.fit(data, labels, epochs=10, batch_size=32)"
   ]
  },
  {
   "cell_type": "code",
   "execution_count": null,
   "metadata": {
    "slideshow": {
     "slide_type": "skip"
    }
   },
   "outputs": [],
   "source": [
    "n_neurons = 32\n",
    "kernel_size = 3\n",
    "n_hidden = 11\n",
    "stateful = False"
   ]
  },
  {
   "cell_type": "code",
   "execution_count": null,
   "metadata": {},
   "outputs": [],
   "source": [
    "x = Input(shape=input_shape)\n",
    "h1 = Dense(n_neurons, activation='relu')(x)\n",
    "h2 = Dense(n_neurons, activation='relu')(h1)\n",
    "z = Dense(msig.n_classes, activation='softmax')(h2)\n",
    "model = Model(inputs=[x], outputs=[z])"
   ]
  },
  {
   "cell_type": "code",
   "execution_count": null,
   "metadata": {},
   "outputs": [],
   "source": [
    "print(input_shape, 2**n_hidden)\n",
    "loss = msig.classification_type + '_crossentropy'\n",
    "fc_act = classifier_activation[msig.classification_type]\n",
    "out_neurons = 1 if msig.classification_type is 'binary' else n_classes\n",
    "conv1d_kwargs = dict(kernel_size=kernel_size, padding='causal', activation='relu')\n",
    "compile_kwargs = dict(loss=loss, optimizer='adam', metrics=['accuracy'])\n",
    "\n",
    "model = Sequential()\n",
    "model.add(Conv1D(n_neurons, dilation_rate=1, input_shape=input_shape, **conv1d_kwargs))\n",
    "for d in range(1, n_hidden):\n",
    "    model.add(Conv1D(n_neurons, dilation_rate=2**d, **conv1d_kwargs))\n",
    "model.add(Dense(out_neurons, activation=fc_act))\n",
    "model.compile(**compile_kwargs)\n",
    "model.summary()"
   ]
  },
  {
   "cell_type": "code",
   "execution_count": null,
   "metadata": {},
   "outputs": [],
   "source": [
    "def temporal_layer(x, n_neurons, dilation_rate, conv1d_kwargs, dropout=0, normalize=False):\n",
    "    h = Conv1D(n_neurons, dilation_rate=dilation_rate, **conv1d_kwargs)(x)\n",
    "    if normalize:\n",
    "        h = BatchNormalization()(h)\n",
    "    h = Activation('relu')(h)\n",
    "    if dropout:\n",
    "        h = Dropout(dropout)(h)\n",
    "    return h\n",
    "\n",
    "def temporal_block(h0, n_neurons, dilation_rate, conv1d_kwargs, dropout=0, normalize=False):\n",
    "    h1 = temporal_layer(h0, n_neurons, dilation_rate, conv1d_kwargs, dropout=dropout, normalize=normalize)\n",
    "    h2 = temporal_layer(h1, n_neurons, dilation_rate, conv1d_kwargs, dropout=dropout, normalize=normalize)\n",
    "    res = Conv1D(n_neurons, kernel_size=1)(h0) if h0.shape != h2.shape else h0        \n",
    "    block = Add()([res, h2])\n",
    "    return Activation('relu')(block)\n",
    "\n",
    "print(input_shape, 2**n_hidden)\n",
    "loss = msig.classification_type + '_crossentropy'\n",
    "fc_act = classifier_activation[msig.classification_type]\n",
    "out_neurons = 1 if msig.classification_type is 'binary' else n_classes\n",
    "conv1d_kwargs = dict(kernel_size=kernel_size, padding='causal')\n",
    "compile_kwargs = dict(loss=loss, optimizer='adam', metrics=['accuracy'])\n",
    "\n",
    "x = Input(shape=input_shape)\n",
    "# h = temporal_layer(x, n_neurons, 1, conv1d_kwargs)\n",
    "h = temporal_block(x, n_neurons, 1, conv1d_kwargs)\n",
    "for d in range(1, n_hidden):\n",
    "#     h = temporal_layer(h, n_neurons, 2**d, conv1d_kwargs)\n",
    "    h = temporal_block(h, n_neurons, 2**d, conv1d_kwargs)\n",
    "z = Dense(out_neurons, activation=fc_act)(h)\n",
    "\n",
    "model = Model(inputs=[x], outputs=[z])\n",
    "model.compile(**compile_kwargs)\n",
    "model.summary()"
   ]
  },
  {
   "cell_type": "code",
   "execution_count": null,
   "metadata": {
    "slideshow": {
     "slide_type": "skip"
    }
   },
   "outputs": [],
   "source": [
    "# define model\n",
    "model = Sequential()\n",
    "# model.add(Masking(mask_value=-1, input_shape=(1,)))\n",
    "# model.add(LSTM(n_neurons, input_shape=(msig.window_size, 1), return_sequences=True))\n",
    "# model.add(LSTM(n_neurons, input_shape=self.input_shape, return_sequences=False, dropout=0.5))\n",
    "# model.add(LSTM(n_neurons, input_shape=(2, 1)))\n",
    "# model.add(LSTM(n_neurons, input_shape=(window_size, 2)))\n",
    "model.add(LSTM(n_neurons, batch_input_shape=(batch_size, window_size, 1), stateful=stateful, return_sequences=True))\n",
    "# model.add(LSTM(n_neurons, batch_input_shape=(window_size, 1, 1), stateful=stateful, return_sequences=True))\n",
    "# model.add(LSTM(n_neurons, batch_input_shape=(window_size, 1, 1), stateful=stateful))\n",
    "model.add(LSTM(n_neurons, stateful=stateful, return_sequences=True))\n",
    "# model.add(LSTM(n_neurons))\n",
    "# for _ in range(n_layers):\n",
    "#     model.add(LSTM(n_neurons, stateful=stateful, return_sequences=True))\n",
    "# model.add(LSTM(n_neurons, stateful=stateful))\n",
    "# model.add(Dense(n_classes, activation='softmax'))\n",
    "# model.add(Dropout(0.5))\n",
    "# model.add(Reshape((n_neurons, n_classes, 1)))\n",
    "model.add(TimeDistributed(Dense(n_classes, activation='softmax')))\n",
    "\n",
    "model.compile(loss='categorical_crossentropy', optimizer='rmsprop', metrics=['accuracy'])\n",
    "model.summary()"
   ]
  },
  {
   "cell_type": "code",
   "execution_count": null,
   "metadata": {},
   "outputs": [],
   "source": [
    "x = Input(batch_shape=(batch_size, window_size, n_features))\n",
    "z1 = LSTM(n_neurons, return_sequences=True, stateful=stateful)(x)\n",
    "z2 = LSTM(n_neurons, return_sequences=False, stateful=stateful)(z1)\n",
    "z = Dense(n_classes, activation='softmax')(z2)\n",
    "# z = TimeDistributed(Dense(n_classes, activation='softmax'))(z2)\n",
    "\n",
    "model = Model(inputs=[x], outputs=[z])\n",
    "model.compile(loss='categorical_crossentropy', optimizer='rmsprop', metrics=['accuracy'])\n",
    "model.summary()"
   ]
  },
  {
   "cell_type": "code",
   "execution_count": null,
   "metadata": {},
   "outputs": [],
   "source": [
    "x = Input(batch_shape=(batch_size, window_size, 1))\n",
    "z1 = PLSTM(n_neurons, return_sequences=True, implementation=2)(x)\n",
    "z2 = PLSTM(n_neurons, return_sequences=True, implementation=2)(z1)\n",
    "z = Dense(n_classes, activation='softmax')(z2)\n",
    "model = Model(inputs=[x], outputs=[z])\n",
    "model.compile(loss='categorical_crossentropy', optimizer='rmsprop', metrics=['accuracy'])\n",
    "model.summary()"
   ]
  },
  {
   "cell_type": "code",
   "execution_count": null,
   "metadata": {},
   "outputs": [],
   "source": [
    "model_config_filename = os.path.join(msig.out_dir, 'model_config.json')\n",
    "model_summary_filename = os.path.join(msig.out_dir, 'model_plot.png')\n",
    "with open(model_config_filename, 'w') as ofs:\n",
    "    json.dump(json.loads(model.to_json()), ofs, indent=4)\n",
    "plot_model(model, to_file=model_summary_filename, show_shapes=True, show_layer_names=True)"
   ]
  },
  {
   "cell_type": "code",
   "execution_count": null,
   "metadata": {},
   "outputs": [],
   "source": [
    "SVG(model_to_dot(model, show_shapes=True).create(prog='dot', format='svg'))"
   ]
  },
  {
   "cell_type": "markdown",
   "metadata": {},
   "source": [
    "# Training"
   ]
  },
  {
   "cell_type": "code",
   "execution_count": 11,
   "metadata": {
    "slideshow": {
     "slide_type": "skip"
    }
   },
   "outputs": [],
   "source": [
    "# Code specific to window_type == sliding\n",
    "# x_test, y_test = msig.generate_samples(1, 'xwf_xwc')\n",
    "# test_dict = {\n",
    "#     'sequence_type': msig.sequence_type,\n",
    "#     'window_type': msig.window_type,\n",
    "#     'window_size': msig.window_size,\n",
    "#     'class_colors': np.hstack([wave.color for wave in msig.waves]),\n",
    "#     'timestamps': msig.timestamps,\n",
    "#     'X': x_test, \n",
    "#     'y': y_test, \n",
    "#     'y_hat': [],\n",
    "#     'epoch': [], \n",
    "#     'score': [],\n",
    "# }"
   ]
  },
  {
   "cell_type": "code",
   "execution_count": null,
   "metadata": {
    "slideshow": {
     "slide_type": "skip"
    }
   },
   "outputs": [],
   "source": [
    "csvlogger = CSVLogger(msig.training_stats_filename, separator=',', append=True)\n",
    "checkpointer = ModelCheckpoint(msig.model_filename, save_best_only=True, save_weights_only=False, verbose=1, period=5)"
   "source": [
    "epochs = 50\n",
    "batch_size = 128\n",
    "n_samples_train = 4096\n",
    "n_samples_valid = 1024\n",
    "status_update_every = 10\n",
    "\n",
    "x_valid, y_valid = msig.generate_samples(n_samples_valid, 'tf_tc')\n",
    "\n",
    "training_generator = SignalGenerator(n_samples_train, batch_size, msig, 'tf_tc')\n",
    "t0 = time.time()\n",
    "for i in range(epochs):\n",
    "    model.fit_generator(\n",
    "        generator=training_generator,\n",
    "        validation_data=(x_valid, y_valid),\n",
    "#         batch_size=batch_size,\n",
    "        verbose=1, \n",
    "        callbacks=[\n",
    "            csvlogger,\n",
    "            checkpointer\n",
    "        ],\n",
    "        use_multiprocessing=True,\n",
    "        workers=4\n",
    "    )\n",
    "    if stateful:\n",
    "        model.reset_states()\n",
    "\n",
    "    if (i + 1) % status_update_every == 0:\n",
    "        print('#' * 50)\n",
    "        print(f'Epoch: {(i + 1)}/{epochs}, Time: {time.time() - t0}')\n",
    "        print('#' * 50)\n",
    "        t0 = time.time()"
   ]
  },
  {
   "cell_type": "code",
   "execution_count": null,
   "metadata": {
    "scrolled": true,
    "slideshow": {
     "slide_type": "skip"
    }
   },
   "outputs": [],
   "source": [
    "n_samples_train = 2048\n",
    "n_samples_valid = 512\n",
    "epochs = 200\n",
    "dump_every = 1\n",
    "status_update_every = 50\n",
    "\n",
    "x_valid, y_valid, *_ = msig.generate_samples(n_samples_valid, 'tf_tc')\n",
    "\n",
    "for i in range(epochs):\n",
    "    x_train, y_train, *_ = msig.generate_samples(n_samples_train, 'tf_tc')\n",
    "    model.fit(\n",
    "        x_train, y_train,\n",
    "        epochs=1, \n",
    "        validation_data=(x_valid, y_valid),\n",
    "        batch_size=batch_size,\n",
    "        verbose=1, \n",
    "        callbacks=[\n",
    "            csvlogger,\n",
    "            checkpointer\n",
    "        ],\n",
    "    )\n",
    "    if stateful:\n",
    "        model.reset_states()\n",
    "\n",
    "# Code specific to window_type == sliding\n",
    "\n",
    "#     if (i + 1) % dump_every == 0:     \n",
    "#         test_dict['epoch'].append(i + 1)\n",
    "#         score = model.evaluate(test_dict['X'], test_dict['y'], batch_size=batch_size)\n",
    "#         if stateful:\n",
    "#             model.reset_states()\n",
    "#         test_dict['score'].append(score)\n",
    "\n",
    "#         y_hat = model.predict(test_dict['X'], batch_size=batch_size)\n",
    "#         if stateful:\n",
    "#             model.reset_states()\n",
    "#         test_dict['y_hat'].append(y_hat)\n",
    "\n",
    "    if (i + 1) % status_update_every == 0:\n",
    "        print('#' * 50)\n",
    "        print(f'Epoch: {(i + 1)}/{epochs}')\n",
    "        print('#' * 50)\n",
    "#         model.save(msig.model_filename)"
   ]
  },
  {
   "cell_type": "markdown",
   "metadata": {},
   "source": [
    "## new test signal"
   ]
  },
  {
   "cell_type": "code",
   "execution_count": null,
   "metadata": {
    "slideshow": {
     "slide_type": "slide"
    }
   },
   "outputs": [],
   "source": [
    "df_stats = pd.read_csv(msig.training_stats_filename)\n",
    "fig, (ax1, ax2) = plt.subplots(nrows=1, ncols=2, figsize=(14, 6))\n",
    "# span = 111//30 = 3\n",
    "span = epochs // 125\n",
    "\n",
    "loss_dict = {\n",
    "    'loss': df_stats.loss,\n",
    "    'val_loss': df_stats.val_loss,\n",
    "    'loss (hw)': reversed_recombined_holt_winters(np.array(df_stats.loss), span=span),\n",
    "    'val_loss (hw)': reversed_recombined_holt_winters(np.array(df_stats.val_loss), span=span)\n",
    "\n",
    "}\n",
    "alphas = {\n",
    "    'loss': 0.3,\n",
    "    'val_loss': 0.3,\n",
    "    'loss (hw)': 1,\n",
    "    'val_loss (hw)': 1\n",
    "}\n",
    "\n",
    "legend_labels = []\n",
    "for key, value in loss_dict.items():\n",
    "    ax1.plot(value, alpha=alphas[key])\n",
    "    legend_labels.append(key)\n",
    "\n",
    "ax1.set_title(r'timestamps = {}, window_size = {}'.format(msig.n_timestamps, msig.window_size))\n",
    "ax1.set_xlabel(r'epoch')\n",
    "ax1.set_xlim((0, len(df_stats.acc)))\n",
    "ax1.set_ylabel(r'loss')\n",
    "ax1.set_ylim((0, None))\n",
    "ax1.grid(True)\n",
    "ax1.legend(legend_labels)\n",
    "\n",
    "acc_dict = {\n",
    "    'acc': df_stats.acc,\n",
    "    'val_acc': df_stats.val_acc,\n",
    "    'acc (hw)': reversed_recombined_holt_winters(np.array(df_stats.acc), span=span),\n",
    "    'val_acc (hw)': reversed_recombined_holt_winters(np.array(df_stats.val_acc), span=span)\n",
    "\n",
    "}\n",
    "alphas = {\n",
    "    'acc': 0.3,\n",
    "    'val_acc': 0.3,\n",
    "    'acc (hw)': 1,\n",
    "    'val_acc (hw)': 1\n",
    "}\n",
    "\n",
    "legend_labels = []\n",
    "for key, value in acc_dict.items():\n",
    "    ax2.plot(value, alpha=alphas[key])\n",
    "    legend_labels.append(key)\n",
    "\n",
    "ax2.set_title(r'neurons = {}, batch_size = {}'.format(n_neurons, batch_size))\n",
    "ax2.set_xlabel(r'epoch')\n",
    "ax2.set_xlim((0, len(df_stats.acc)))\n",
    "ax2.set_ylabel(r'accuracy')\n",
    "ax2.set_ylim((None, 1))\n",
    "ax2.grid(True)\n",
    "ax2.legend(legend_labels)\n",
    "\n",
    "plt.tight_layout()\n",
    "plt.savefig(os.path.join(msig.out_dir, 'loss_accuracy.png'))\n",
    "plt.show()"
   ]
  },
  {
   "cell_type": "code",
   "execution_count": null,
   "metadata": {},
   "outputs": [],
   "source": [
    "x_test, y_test = msig.generate(sequence_code='1tf_1tc')\n",
    "epoch = 0\n",
    "score = model.evaluate(x_test, y_test, batch_size=batch_size)\n",
    "# if stateful:\n",
    "#     model.reset_states()\n",
    "y_hat = model.predict(x_test, batch_size=batch_size)\n",
    "# if stateful:\n",
    "#     model.reset_states()\n",
    "ii = 100\n",
    "# x_test = test_dict['X']\n",
    "# y_test = test_dict['y']\n",
    "# score = test_dict['score'][ii]\n",
    "# epoch = test_dict['epoch'][ii]\n",
    "# y_hat = test_dict['y_hat'][ii]\n",
    "# x_test_clipped = x_test[:, test_dict['window_size'] - 1:, 0]\n",
    "y_true = np.argmax(y_test, axis=-1)\n",
    "y_pred = np.argmax(y_hat, axis=-1)\n",
    "\n",
    "print('x_test  {}'.format(x_test.shape))\n",
    "print('y_test  {}'.format(y_test.shape))\n",
    "print('y_true  {}'.format(y_true.shape))\n",
    "print(score)\n",
    "print('y_hat   {}'.format(y_hat.shape))\n",
    "print('y_pred  {}'.format(y_pred.shape))\n",
    "\n",
    "if msig.window_type == 'boxcar' and msig.network_type == 'RNN':\n",
    "    x_test_x_scatter = msig.timestamps\n",
    "    x_test_y_scatter = msig.mixed_signal\n",
    "    x_windows_start = np.reshape(msig.timestamps, y_pred.shape)[:, 0]\n",
    "    y_pred_colors = np.hstack([msig.waves[i].color for i in y_pred])\n",
    "elif msig.window_type == 'boxcar' and msig.network_type == 'MLP' and msig.sequence_type == 'many2many':\n",
    "    x_test_x_scatter = msig.timestamps\n",
    "    x_test_y_scatter = msig.mixed_signal\n",
    "    x_windows_start = np.reshape(msig.timestamps, y_pred.shape)[:, 0]\n",
    "    y_pred_colors = np.hstack([msig.waves[i].color for i in y_pred])\n",
    "elif msig.window_type == 'sliding':\n",
    "    x_test_x_scatter = msig.timestamps[msig.window_size-1:]\n",
    "    x_test_y_scatter = msig.mixed_signal[msig.window_size-1:]\n",
    "    x_windows_start = None\n",
    "    if msig.sequence_type == 'many2many':\n",
    "        y_true_colors = np.hstack([msig.waves[i].color for i in y_true[0]])\n",
    "        y_pred_colors = np.hstack([msig.waves[i].color for i in y_pred[0]])\n",
    "#         y_true_colors = [msig.waves[i[-1]].color for i in y_true[0]]\n",
    "#         y_pred_colors = [msig.waves[i[-1]].color for i in y_pred[0]]\n",
    "    else:\n",
    "        y_true_colors = np.hstack([msig.waves[i].color for i in y_true[0]])\n",
    "        y_pred_colors = np.hstack([msig.waves[i].color for i in y_pred[0]])\n",
    "\n",
    "print('y_colors{}'.format(y_pred_colors.shape))\n",
    "# print(msig.timestamps.shape)\n",
    "# print(x_test_x_scatter.shape)\n",
    "# print(x_test_y_scatter.shape)\n",
    "# print(x_windows_start)\n",
    "\n",
    "# I derived y_score based on my intuition (i.e. out of thin air).  Would be nice to find some theoretical justification for why this is I like it so much.\n",
    "if msig.sequence_type == 'many2many':\n",
    "    y_true_value = [y_hat[i, j, y_true[i, j]] for i in range(y_true.shape[0]) for j in range(y_true.shape[1])]\n",
    "    y_pred_value = [y_hat[i, j, y_pred[i, j]] for i in range(y_pred.shape[0]) for j in range(y_pred.shape[1])]\n",
    "    y_true_value = np.reshape(y_true_value, y_true.shape)\n",
    "    y_pred_value = np.reshape(y_pred_value, y_pred.shape)\n",
    "    y_penalty = y_true_value - y_pred_value\n",
    "    y_score = y_true_value + y_penalty\n",
    "else:\n",
    "    y_true_value = y_hat[(np.arange(y_true.shape[0]), y_true[0])]\n",
    "    y_pred_value = y_hat[(np.arange(y_pred.shape[0]), y_pred[0])]\n",
    "    y_penalty = y_true_value - y_pred_value\n",
    "    y_score = y_true_value + y_penalty\n",
    "    # Hack: Make y_score the same shape as many2many y_score\n",
    "#     y_score = y_score[:, None] * np.ones((msig.window_size,))[None, :]\n",
    "    \n",
    "print(y_true_value.shape)\n",
    "print(y_pred_value.shape)\n",
    "print(y_penalty.shape)\n",
    "print(y_score.shape)"
   ]
  },
  {
   "cell_type": "code",
   "execution_count": null,
   "metadata": {},
   "outputs": [],
   "source": [
    "msig.mixed_signal.shape"
   ]
  },
  {
   "cell_type": "code",
   "execution_count": null,
   "metadata": {},
   "outputs": [],
   "source": [
    "print(y_true_colors[:4])\n",
    "print(test_dict['class_colors'][y_true][:4])\n",
    "test_dict['sequence_type']"
   ]
  },
  {
   "cell_type": "code",
   "execution_count": null,
   "metadata": {},
   "outputs": [],
   "source": [
    "print(y_hat[:4])\n",
    "print(y_true[:4])\n",
    "print(y_true_value[:4])\n",
    "print(y_hat[(np.arange(y_true.shape[0]), y_true)][:4])\n",
    "print(y_pred_value[:4])\n",
    "print(y_hat[(np.arange(y_pred.shape[0]), y_pred)][:4])\n",
    "print(y_penalty)\n",
    "print(y_score)"
   ]
  },
  {
   "cell_type": "code",
   "execution_count": null,
   "metadata": {},
   "outputs": [],
   "source": [
    "# j = 10\n",
    "# s0 = slice(0, j)\n",
    "# s1 = slice(-j, -1)\n",
    "# s0 = s1\n",
    "# print(y_hat[s0, s1])\n",
    "# print(y_true[s0, s1])\n",
    "# print(y_true_value[s0, s1])\n",
    "# print(y_pred[s0, s1])\n",
    "# print(y_pred_value[s0, s1])\n",
    "# print(y_penalty[s0, s1])\n",
    "# print(y_score[s0, s1])\n",
    "# print(np.min(y_score), np.max(y_score))\n",
    "\n",
    "if msig.sequence_type == 'many2many':\n",
    "    y_score_mean = y_score.sum(axis=1) / y_score.shape[1]\n",
    "    y_score_unshifted = np.zeros((msig.n_timestamps, msig.window_size))\n",
    "    for i in range(msig.window_size):\n",
    "        y_score_unshifted[i:i + msig.n_samples, i] = y_score[:, i]\n",
    "    y_score_unshifted_clipped = y_score_unshifted[msig.window_size-1:]\n",
    "    y_score_unshifted_clipped_mean = y_score_unshifted_clipped.sum(axis=1) / y_score.shape[1]\n",
    "else:\n",
    "    \n",
    "    y_score_mean = y_score.sum(axis=1) / y_score.shape[1]\n",
    "    y_score_unshifted = np.zeros((msig.n_timestamps, msig.window_size))\n",
    "    for i in range(msig.window_size):\n",
    "        y_score_unshifted[i:i + msig.n_samples, i] = y_score[:, i]\n",
    "    y_score_unshifted_clipped = y_score_unshifted[msig.window_size-1:]\n",
    "    y_score_unshifted_clipped_mean = y_score_unshifted_clipped.sum(axis=1) / y_score.shape[1]\n",
    "    "
   ]
  },
  {
   "cell_type": "code",
   "metadata": {},
   "outputs": [
    {
     "data": {
      "image/png": "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\n",
      "text/plain": [
       "<Figure size 864x432 with 2 Axes>"
      ]
     },
     "metadata": {},
     "output_type": "display_data"
    }
   ],
   "source": [
    "xmin = 0\n",
    "xmax = x_test.shape[1]\n",
    "xindex = range(xmin, xmax)\n",
    "\n",
    "fig, ax = plt.subplots(nrows=2, ncols=1, figsize=(12, 6))\n",
    "# ax = plt.Axes(fig, [0., 0., 1., 1.])\n",
    "# ax.set_axis_off()\n",
    "# fig.add_axes(ax)\n",
    "\n",
    "ax[0].scatter(\n",
    "    xindex, \n",
    "    x_test[0, :, 0], \n",
    "    marker='.', \n",
    "    c=y_true_colors)\n",
    "ax[0].set_title('epoch = {}'.format(epoch))\n",
    "ax[0].set_xlim((xmin, xmax))\n",
    "ax[0].set_xticks([])\n",
    "ax[0].grid(True)\n",
    "\n",
    "ax[1].scatter(\n",
    "    xindex, \n",
    "    x_test[0, :, 0], \n",
    "    marker='.', \n",
    "    c=y_pred_colors)\n",
    "ax[1].set_title('loss = {:<6.4f}, accuracy = {:<.2%}'.format(*score))\n",
    "ax[1].set_xlim((xmin, xmax))\n",
    "ax[1].grid(True)\n",
    "\n",
    "# plt.draw()\n",
    "plt.savefig(os.path.join(msig.out_dir, 'prediction_analysis.png'), bbox_inches='tight', pad_inches=0.08)\n",
    "# plt.show()"
   ]
  },
  {
   "cell_type": "code",
   "execution_count": null,
   "metadata": {},
   "outputs": [],
   "source": [
    "xmin = 0\n",
    "xmax = y_score.shape[0]\n",
    "xindex = range(xmin, xmax)\n",
    "\n",
    "fig, ax = plt.subplots(nrows=4, ncols=1, figsize=(10, 16))\n",
    "# ax = plt.Axes(fig, [0., 0., 1., 1.])\n",
    "# ax.set_axis_off()\n",
    "# fig.add_axes(ax)\n",
    "\n",
    "ax[0].scatter(\n",
    "    xindex, \n",
    "    x_test_clipped, \n",
    "    marker='.', \n",
    "    c=y_true_colors)\n",
    "ax[0].set_title('epoch = {}'.format(epoch))\n",
    "ax[0].set_xlim((xmin, xmax))\n",
    "ax[0].set_xticks([])\n",
    "ax[0].grid(True)\n",
    "\n",
    "ax[1].imshow(\n",
    "    y_score.T, \n",
    "    interpolation='nearest', \n",
    "    cmap=plt.get_cmap('Spectral'), \n",
    "    origin='upper');\n",
    "ax[1].spines['top'].set_visible(False)\n",
    "ax[1].set_xlim((xmin, xmax))\n",
    "ax[1].set_xticks([])\n",
    "ax[1].set_ylim((y_score.shape[1], 0))\n",
    "ax[1].set_yticks([y_score.shape[1]])\n",
    "\n",
    "divider = make_axes_locatable(ax[1])\n",
    "ax1Top = divider.append_axes(\"top\", 0.5, sharex=ax[1])\n",
    "ax1Top.xaxis.set_tick_params(labelbottom=False)\n",
    "ax1Top.plot(y_score_mean)\n",
    "ax1Top.set_title('sequence model type = {}'.format(msig.sequence_type))\n",
    "ax1Top.set_xlim((xmin, xmax))\n",
    "ax1Top.set_ylim((-1, 1))\n",
    "ax1Top.set_yticks((-1, 0, 1))\n",
    "ax1Top.grid(True)\n",
    "\n",
    "ax[2].imshow(\n",
    "    y_score_unshifted_clipped.T, \n",
    "    interpolation='nearest', \n",
    "    cmap=plt.get_cmap('Spectral'), \n",
    "    origin='upper');\n",
    "ax[2].spines['top'].set_visible(False)\n",
    "ax[2].set_xlim((xmin, xmax))\n",
    "ax[2].set_xticks([])\n",
    "ax[2].set_ylim((y_score_unshifted_clipped.shape[1], 0))\n",
    "ax[2].set_yticks([y_score_unshifted_clipped.shape[1]])\n",
    "\n",
    "divider = make_axes_locatable(ax[2])\n",
    "ax2Top = divider.append_axes(\"top\", 0.5, sharex=ax[2])\n",
    "ax2Top.xaxis.set_tick_params(labelbottom=False)\n",
    "ax2Top.plot(y_score_unshifted_clipped_mean)\n",
    "ax2Top.set_title('{} window size = {}'.format(window_type, msig.window_size))\n",
    "ax2Top.set_xlim((xmin, xmax))\n",
    "ax2Top.set_ylim((-1, 1))\n",
    "ax2Top.set_yticks((-1, 0, 1))\n",
    "ax2Top.grid(True)\n",
    "\n",
    "ax[3].scatter(\n",
    "    xindex, \n",
    "    x_test_clipped,\n",
    "    marker='.', \n",
    "    c=y_pred_colors)\n",
    "ax[3].set_title('loss = {:<6.4f}, accuracy = {:<.2%}'.format(*score))\n",
    "ax[3].set_xlim((xmin, xmax))\n",
    "ax[3].grid(True)\n",
    "\n",
    "# plt.draw()\n",
    "plt.savefig(os.path.join(msig.out_dir, 'prediction_analysis.png'), bbox_inches='tight', pad_inches=0.08)\n",
    "# plt.show()"
   ]
  },
  {
   "cell_type": "code",
   "execution_count": null,
   "metadata": {
    "scrolled": false
   },
   "outputs": [],
   "source": [
    "if msig.sequence_type == 'many2many':\n",
    "    plot_confusion_matrix(y_true[:, -1], y_pred[:, -1], figsize=(8, 6), filename=os.path.join(msig.out_dir, 'confusion_matrix.png'))\n",
    "else:\n",
    "    plot_confusion_matrix(y_true[0], y_pred[0], figsize=(8, 6), filename=os.path.join(msig.out_dir, 'confusion_matrix.png'))"
   ]
  },
  {
   "cell_type": "code",
   "execution_count": null,
   "metadata": {},
   "outputs": [],
   "source": [
    "import importlib"
   ]
  },
  {
   "cell_type": "code",
   "execution_count": null,
   "metadata": {},
   "outputs": [],
   "source": [
    "importlib.reload(plot_utils);"
   ]
  },
  {
   "cell_type": "code",
   "execution_count": null,
   "metadata": {},
   "outputs": [],
   "source": [
    "import mixsig.plot_utils as plot_utils"
   ]
  },
  {
   "cell_type": "code",
   "execution_count": null,
   "metadata": {},
   "outputs": [],
   "source": [
    "plot_utils.plot_prediction_tests(test_dict, os.path.join(msig.out_dir, 'training_snapshots'))"
   ]
  },
  {
   "cell_type": "markdown",
   "metadata": {},
   "source": [
    "Now browse to the training_snapshots folder and run,\n",
    "```bash\n",
    "ffmpeg -framerate 30 -i %05d.png -c:v libx264 -profile:v high -crf 20 -pix_fmt yuv420p ../prediction_analysis.mp4\n",
    "```"
   ]
  },
  {
   "cell_type": "code",
   "execution_count": null,
   "metadata": {},
   "outputs": [],
   "source": [
    "from mixsig.utils import factors\n",
    "# CODE\n",
    "# fact_a = factors(self.batch_size)\n",
    "# fact_b = factors(self.window_size)\n",
    "# gcm = max(fact_a.intersection(fact_b))\n",
    "# chop_index = len(timestamps) % (self.window_size * self.batch_size // gcm)\n",
    "\n",
    "# TODO: Move this to unit tests\n",
    "ws, bs = 512, 392\n",
    "nts = 200771\n",
    "print(f'nts   = {nts}\\nws*bs = {ws * bs}')\n",
    "print(factors(nts))\n",
    "\n",
    "fact_a = factors(bs)\n",
    "print(fact_a)\n",
    "fact_b = factors(ws)\n",
    "print(fact_b)\n",
    "gcm = max(fact_a.intersection(fact_b))\n",
    "print(gcm)\n",
    "\n",
    "print('#'*20)\n",
    "print(ws * bs // gcm)\n",
    "print(nts % (ws * bs // gcm))\n",
    "nts2 = nts - (nts % (ws * bs // gcm))\n",
    "print(nts2, nts2 // bs, nts2 // ws)\n",
    "\n",
    "print('#'*20)\n",
    "print(ws * bs)\n",
    "print(nts % (ws * bs))\n",
    "nts2 = nts - (nts % (ws * bs))\n",
    "print(nts2, nts2 // bs, nts2 // ws)"
   ]
  },
  {
   "cell_type": "code",
   "execution_count": null,
   "metadata": {},
   "outputs": [],
   "source": [
    "raw_sequences = []\n",
    "for i in range(20):\n",
    "    seq = random.sample(range(50), random.randint(10, 20))\n",
    "    print(len(seq), seq)\n",
    "    raw_sequences.append(seq)"
   ]
  },
  {
   "cell_type": "code",
   "execution_count": null,
   "metadata": {},
   "outputs": [],
   "source": [
    "new_sequences = pad_sequences(\n",
    "    raw_sequences, \n",
    "    maxlen=15, \n",
    "    dtype='int32', \n",
    "    padding='pre', \n",
    "    truncating='post', \n",
    "    value=0.0)\n",
    "\n",
    "print(new_sequences)"
   ]
  },
  {
   "cell_type": "code",
   "execution_count": null,
   "metadata": {},
   "outputs": [],
   "source": [
    "fig = plt.figure(figsize=(5, 3))\n",
    "plt.plot(y_score.sum(axis=0) / y_score.shape[0])\n",
    "plt.xlim((0, y_score.shape[1]))\n",
    "plt.xlabel('timestep')\n",
    "plt.ylim((0, 1))\n",
    "plt.ylabel('classifier score')\n",
    "plt.grid(True)\n",
    "plt.savefig(os.path.join(msig.out_dir, 'mean_accuracy_vs_timestep.png'))"
   ]
  },
  {
   "cell_type": "markdown",
   "metadata": {},
   "source": [
    "## current validation signal"
   ]
  },
  {
   "cell_type": "code",
   "execution_count": null,
   "metadata": {},
   "outputs": [],
   "source": [
    "print(x_val.shape)\n",
    "print(hidden_layers['1'].shape)\n",
    "print(output_layers.shape)\n",
    "print(y_val.shape)"
   ]
  },
  {
   "cell_type": "code",
   "execution_count": null,
   "metadata": {},
   "outputs": [],
   "source": [
    "print(x_val.shape)\n",
    "print(hidden_layers['1']['output'].shape)\n",
    "print(hidden_layers['1']['state'].shape)\n",
    "print(z1_layers.shape)\n",
    "print(output_layers.shape)\n",
    "print(y_val.shape)"
   ]
  },
  {
   "cell_type": "code",
   "execution_count": null,
   "metadata": {},
   "outputs": [],
   "source": [
    "arr = np.reshape(z2_layers[..., 5], (1000, 1000))\n",
    "fig = plt.figure(figsize=(14, 8))\n",
    "\n",
    "ax = plt.subplot(111)\n",
    "im = ax.imshow(arr, interpolation=\"none\")\n",
    "\n",
    "plt.tight_layout()\n",
    "# plt.savefig(os.path.join(msig.out_dir, 'gen_loss_acc.png'))\n",
    "# plt.show()"
   ]
  },
  {
   "cell_type": "code",
   "execution_count": null,
   "metadata": {},
   "outputs": [],
   "source": [
    "layer = '1'\n",
    "o_or_s = 'output'\n",
    "val_arrays = np.load(os.path.join(vsig.out_dir, '_'.join(['valid_hidden_layer', layer, o_or_s])) + '.npy')\n",
    "print(val_arrays.shape)\n",
    "glance_at_tensor(val_arrays)"
   ]
  },
  {
   "cell_type": "code",
   "execution_count": null,
   "metadata": {},
   "outputs": [],
   "source": [
    "out_dir = '/home/maddoxw/PycharmProjects/MixSig/out/2018-04-09_04-53-12'"
   ]
  },
  {
   "cell_type": "code",
   "execution_count": null,
   "metadata": {},
   "outputs": [],
   "source": [
    "val_arrays = np.load(os.path.join(vsig.out_dir, 'valid_output_layer.npy'))\n",
    "print(val_arrays.shape)\n",
    "glance_at_tensor(val_arrays)"
   ]
  },
  {
   "cell_type": "code",
   "execution_count": null,
   "metadata": {
    "slideshow": {
     "slide_type": "subslide"
    }
   },
   "outputs": [],
   "source": [
    "score = model.evaluate(x_val, y_val, batch_size=batch_size)\n",
    "model.reset_states()\n",
    "y_hat = model.predict(x_val, batch_size=batch_size)\n",
    "model.reset_states()"
   ]
  },
  {
   "cell_type": "code",
   "execution_count": null,
   "metadata": {
    "slideshow": {
     "slide_type": "subslide"
    }
   },
   "outputs": [],
   "source": [
    "# y_pred = np.argmax(states['y_hat'], axis=1)\n",
    "# y_pred_colors = np.hstack([vsig.signal_colors[i] for i in y_pred])\n",
    "\n",
    "layer = '1'\n",
    "val_arrays = np.load(os.path.join(vsig.out_dir, 'valid_hidden_layer_' + layer + '_output.npy'))\n",
    "n_generations, _, n_neurons = val_arrays.shape\n",
    "ncols = 1\n",
    "nrows = n_neurons // ncols\n",
    "fig, axes = plt.subplots(nrows=nrows, ncols=ncols, figsize=(10, 3))\n",
    "\n",
    "for g in range(n_generations):\n",
    "    for i in range(n_neurons):\n",
    "        ax = axes#[i // ncols, i % ncols]\n",
    "        ax.cla()\n",
    "        y_pred_colors = val_arrays[g, :, i]\n",
    "        ax.plot(vsig.timestamps, vsig.mixed_signal, color='grey', alpha=0.3)\n",
    "        ax.scatter(\n",
    "            vsig.timestamps[vsig.window_size-1:], \n",
    "#             vsig.timestamps, \n",
    "#             x_val[:, -1, 0], \n",
    "#             x_val[0, :, 0], \n",
    "            vsig.mixed_signal[vsig.window_size-1:], \n",
    "            marker='o', \n",
    "            c=y_pred_colors, \n",
    "            cmap=plt.get_cmap('coolwarm'), \n",
    "            vmin=-1, \n",
    "            vmax=1\n",
    "        )\n",
    "        ax.set_title('neuron = {}'.format(i + 1))\n",
    "        ax.set_xlim((vsig.t_min, vsig.t_max))\n",
    "        ax.grid(True)\n",
    "        \n",
    "    plt.tight_layout()\n",
    "    plt.suptitle('hidden layer = {}, ({}), generation = {}'.format(layer, 'output', g + 1))\n",
    "#     plt.savefig(os.path.join(vsig.out_dir, '_'.join(['valid_hidden_layer', layer, 'gen', str(g + 1)]) + '.png'))\n",
    "\n",
    "plt.show()"
   ]
  },
  {
   "cell_type": "code",
   "execution_count": null,
   "metadata": {
    "slideshow": {
     "slide_type": "subslide"
    }
   },
   "outputs": [],
   "source": [
    "# y_pred = np.argmax(states['y_hat'], axis=1)\n",
    "# y_pred_colors = np.hstack([vsig.signal_colors[i] for i in y_pred])\n",
    "\n",
    "layer = '2'\n",
    "o_or_s = 'output'\n",
    "val_arrays = np.load(os.path.join(vsig.out_dir, '_'.join(['valid_hidden_layer', layer, o_or_s])) + '.npy')\n",
    "n_generations, _, n_neurons = val_arrays.shape\n",
    "ncols = 2\n",
    "nrows = n_neurons // ncols\n",
    "fig, axes = plt.subplots(nrows=nrows, ncols=ncols, figsize=(16, 20))\n",
    "\n",
    "for g in range(n_generations):\n",
    "    for i in range(n_neurons):\n",
    "        ax = axes[i // ncols, i % ncols]\n",
    "        ax.cla()\n",
    "        y_pred_colors = val_arrays[g, :, i]\n",
    "        ax.plot(vsig.timestamps, vsig.mixed_signal, color='grey', alpha=0.3)\n",
    "        ax.scatter(\n",
    "#             vsig.timestamps[vsig.window_size-1:], \n",
    "            vsig.timestamps, \n",
    "#             x_val[:, -1, 0], \n",
    "            x_val[0, :, 0], \n",
    "            vsig.timestamps[vsig.window_size-1:], \n",
    "            marker='o', \n",
    "            c=y_pred_colors, \n",
    "            cmap=plt.get_cmap('coolwarm'), \n",
    "            vmin=-1, \n",
    "            vmax=1\n",
    "        )\n",
    "        ax.set_title('neuron = {}'.format(i + 1))\n",
    "        ax.set_xlim((vsig.t_min, vsig.t_max))\n",
    "        ax.grid(True)\n",
    "        \n",
    "    plt.tight_layout()\n",
    "    plt.suptitle('hidden layer = {}, ({}), generation = {}'.format(layer, o_or_s, g + 1))\n",
    "    plt.savefig(os.path.join(vsig.out_dir, '_'.join(['valid_hidden_layer', layer, o_or_s, 'gen', str(g + 1)]) + '.png'))\n",
    "\n",
    "plt.show()"
   ]
  },
  {
   "cell_type": "code",
   "execution_count": null,
   "metadata": {
    "scrolled": true
   },
   "outputs": [],
   "source": [
    "x_test, y_test = msig.generate()\n",
    "y_hat, *args = model2.predict(x_test, batch_size=batch_size)\n",
    "model2.reset_states()\n",
    "y_pred = np.argmax(y_hat, axis=-1)\n",
    "print('x_test', x_test.shape, '{:>9.4f} {:>9.4f}'.format(np.min(x_test), np.max(x_test)))\n",
    "print('y_test', y_test.shape)\n",
    "print('y_hat ', y_hat.shape, '{:>9.4f} {:>9.4f}'.format(np.min(y_hat), np.max(y_hat)))\n",
    "print('y_pred', y_pred.shape, '{} {}'.format(np.min(y_pred), np.max(y_pred)))\n",
    "for i, arg in enumerate(args):\n",
    "    print(i, arg.shape, '{:>9.4f} {:>9.4f}'.format(np.min(arg), np.max(arg)))"
   ]
  },
  {
   "cell_type": "code",
   "execution_count": null,
   "metadata": {},
   "outputs": [],
   "source": [
    "y_pred_colors = np.hstack([msig.waves[i].color for i in y_pred])\n",
    "print(y_pred_colors[:3])\n",
    "print(y_pred.shape, y_pred_colors.shape)\n",
    "fig, ax = plt.subplots(nrows=1, ncols=1, figsize=(15, 3))\n",
    "ax.plot(msig.timestamps, msig.mixed_signal, color='grey', alpha=0.3)\n",
    "# ax.scatter(msig.timestamps[msig.window_size-1:], x_test[:, -1, 0], marker='.', c=y_pred_colors)\n",
    "# ax.scatter(msig.timestamps, x_test[0, :, 0], marker='.', c=y_pred_colors)\n",
    "ax.scatter(msig.timestamps[msig.window_size-1:], msig.mixed_signal[msig.window_size-1:], marker='.', c=y_pred_colors)\n",
    "ax.set_xlabel('time')\n",
    "ax.set_xlim((msig.t_min, msig.t_max))\n",
    "plt.grid(True)\n",
    "plt.show()"
   ]
  },
  {
   "cell_type": "code",
   "execution_count": null,
   "metadata": {
    "slideshow": {
     "slide_type": "subslide"
    }
   },
   "outputs": [],
   "source": [
    "x_test, y_test = msig.generate()\n",
    "score = model.evaluate(x_test, y_test, batch_size=batch_size)\n",
    "model.reset_states()\n",
    "y_hat = model.predict(x_test, batch_size=batch_size)\n",
    "model.reset_states()\n",
    "y_pred = np.argmax(y_hat, axis=1)\n",
    "# y_pred_colors = [msig.waves[i].color for i in msig.labels[msig.window_size-1:]]\n",
    "y_pred_colors = np.hstack([msig.waves[i].color for i in y_pred])\n",
    "\n",
    "fig, ax = plt.subplots(nrows=1, ncols=1, figsize=(15, 3))\n",
    "ax.plot(msig.timestamps, msig.mixed_signal, color='grey', alpha=0.3)\n",
    "ax.scatter(msig.timestamps[msig.window_size-1:], x_test[:, -1, 0], marker='.', c=y_pred_colors)\n",
    "ax.set_title('loss = {:<6.4f}, accuracy = {:<6.4f}'.format(*score))\n",
    "ax.set_xlabel('time')\n",
    "ax.set_xlim((msig.t_min, msig.t_max))\n",
    "plt.grid(True)\n",
    "plt.savefig(os.path.join(msig.out_dir, 'eval_pred.png'))\n",
    "plt.show()"
   ]
  },
  {
   "cell_type": "code",
   "execution_count": null,
   "metadata": {
    "slideshow": {
     "slide_type": "subslide"
    }
   },
   "outputs": [],
   "source": [
    "x_test, y_test = msig.generate()\n",
    "print(x_test.shape)\n",
    "print(y_test.shape)\n",
    "\n",
    "score = model.evaluate(x_test, y_test, batch_size=batch_size)\n",
    "model.reset_states()\n",
    "print(score)\n",
    "\n",
    "y_hat = model.predict(x_test, batch_size=batch_size)\n",
    "y_pred = np.argmax(y_hat, axis=1)\n",
    "# y_error = 1.0 - np.max(y_hat, axis=1)\n",
    "model.reset_states()\n",
    "# print(y_hat.shape)\n",
    "print(y_pred.shape)\n",
    "# print(y_error.shape)\n",
    "\n",
    "fig, ax = plt.subplots(nrows=2, ncols=1, figsize=(15, 6))\n",
    "\n",
    "ax[0].plot(msig.timestamps, msig.mixed_signal, color='grey', alpha=0.3)\n",
    "ax[0].scatter(msig.timestamps, msig.mixed_signal, marker='.')\n",
    "ax[0].set_title('loss = {:<6.4f}, accuracy = {:<6.4f}'.format(*score))\n",
    "ax[0].set_xlim((msig.t_min, msig.t_max))\n",
    "\n",
    "ax[1].plot(msig.timestamps[msig.window_size-1:], x_test[:, -1, 0], color='grey', alpha=0.3)\n",
    "ax[1].scatter(msig.timestamps[msig.window_size-1:], x_test[:, -1, 0], marker='.', c=y_pred)\n",
    "ax[1].set_xlim((msig.t_min, msig.t_max))\n",
    "ax[1].set_xlabel('time')\n",
    "plt.show()"
   ]
  },
  {
   "cell_type": "markdown",
   "metadata": {},
   "source": [
    "# Transfer weights to new model"
   ]
  },
  {
   "cell_type": "code",
   "execution_count": null,
   "metadata": {
    "scrolled": false,
    "slideshow": {
     "slide_type": "skip"
    }
   },
   "outputs": [],
   "source": [
    "n_batch = 1\n",
    "print(X.shape)\n",
    "print(n_batch)\n",
    "# re-define model\n",
    "new_model = Sequential()\n",
    "new_model.add(LSTM(n_neurons, batch_input_shape=(n_batch, X.shape[1], X.shape[2]), stateful=True, return_sequences=True))\n",
    "new_model.add(LSTM(n_neurons))\n",
    "new_model.add(Dense(msig.n_classes, activation='softmax'))\n",
    "# copy weights\n",
    "old_weights = model.get_weights()\n",
    "new_model.set_weights(old_weights)\n",
    "new_model.compile(loss='categorical_crossentropy', optimizer='rmsprop', metrics=['accuracy'])\n",
    "\n",
    "x_test, y_test = msig.generate()\n",
    "score = new_model.evaluate(x_test, y_test, batch_size=n_batch)\n",
    "print(score)\n",
    "\n",
    "plt.figure(figsize=(15, 3))\n",
    "plt.plot(msig.timestamps, msig.mixed_signal, color='grey', alpha=0.3)\n",
    "plt.scatter(msig.timestamps, msig.mixed_signal, marker='.', c=msig.one_hots)\n",
    "plt.show()"
   ]
  },
  {
   "cell_type": "code",
   "execution_count": null,
   "metadata": {
    "slideshow": {
     "slide_type": "skip"
    }
   },
   "outputs": [],
   "source": [
    "y_hat = new_model.predict(x_test, batch_size=msig.n_samples)\n",
    "for i in range(len(x_test)):\n",
    "    print('Expected', y_test[i], 'Predicted', y_hat[i])"
   ]
  },
  {
   "cell_type": "code",
   "execution_count": null,
   "metadata": {
    "scrolled": false,
    "slideshow": {
     "slide_type": "skip"
    }
   },
   "outputs": [],
   "source": [
    "x_test, y_test = msig()\n",
    "print(x_test.shape)\n",
    "print(y_test.shape)\n",
    "y_hat = new_model.predict(x_test, batch_size=msig.n_samples)\n",
    "print(y_hat.shape)\n",
    "y_pred = np.argmax(y_hat, axis=1)\n",
    "print(y_pred.shape)\n",
    "y_error = np.max(y_hat, axis=1)\n",
    "print(y_error.shape)\n",
    "\n",
    "plt.figure(figsize=(15, 3))\n",
    "plt.plot(msig.timestamps[msig.window_size-1:], x_test[:, -1, 0], color='grey', alpha=0.3)\n",
    "plt.scatter(msig.timestamps[msig.window_size-1:], x_test[:, -1, 0], marker='.', c=y_pred)\n",
    "plt.show()\n",
    "\n",
    "plt.figure(figsize=(15, 3))\n",
    "plt.plot(msig.timestamps[msig.window_size-1:], x_test[:, -1, 0], color='grey', alpha=0.3)\n",
    "plt.scatter(msig.timestamps[msig.window_size-1:], x_test[:, -1, 0], marker='.', c=y_error)\n",
    "plt.show()\n",
    "\n",
    "plt.figure(figsize=(15, 3))\n",
    "plt.plot(msig.timestamps[-msig.n_samples:], y_error, color='grey', alpha=0.3)\n",
    "plt.scatter(msig.timestamps[-msig.n_samples:], y_error, marker='.', c=y_error)\n",
    "plt.show()"
   ]
  },
  {
   "cell_type": "markdown",
   "metadata": {},
   "source": [
    "# TimeDistributed testing"
   ]
  },
  {
   "cell_type": "code",
   "execution_count": null,
   "metadata": {},
   "outputs": [],
   "source": [
    "from numpy import array\n",
    "from keras.models import Sequential\n",
    "from keras.layers import Dense\n",
    "from keras.layers import LSTM\n",
    "from keras.layers import TimeDistributed"
   ]
  },
  {
   "cell_type": "markdown",
   "metadata": {},
   "source": [
    "## One-to-One LSTM for Sequence Prediction"
   ]
  },
  {
   "cell_type": "code",
   "execution_count": null,
   "metadata": {},
   "outputs": [],
   "source": [
    "# prepare sequence\n",
    "length = 5\n",
    "seq = array([i/float(length) for i in range(length)])\n",
    "X = seq.reshape(length, 1, 1)\n",
    "y = seq.reshape(length, 1)\n",
    "# define LSTM configuration\n",
    "n_neurons = length\n",
    "n_batch = length\n",
    "n_epoch = 500\n",
    "# create LSTM\n",
    "model = Sequential()\n",
    "model.add(LSTM(n_neurons, input_shape=(1, 1)))\n",
    "model.add(Dense(1))\n",
    "model.compile(loss='mean_squared_error', optimizer='adam')\n",
    "print(model.summary())"
   ]
  },
  {
   "cell_type": "code",
   "execution_count": null,
   "metadata": {},
   "outputs": [],
   "source": [
    "# train LSTM\n",
    "model.fit(X, y, epochs=n_epoch, batch_size=n_batch, verbose=2)"
   ]
  },
  {
   "cell_type": "code",
   "execution_count": null,
   "metadata": {
    "scrolled": true
   },
   "outputs": [],
   "source": [
    "# evaluate\n",
    "result = model.predict(X, batch_size=n_batch, verbose=0)\n",
    "print(X.shape, result.shape)\n",
    "# print(X)\n",
    "# print(result)\n",
    "for value in result:\n",
    "    print('%.1f' % value)"
   ]
  },
  {
   "cell_type": "markdown",
   "metadata": {},
   "source": [
    "## Many-to-One LSTM for Sequence Prediction (without TimeDistributed)"
   ]
  },
  {
   "cell_type": "code",
   "execution_count": null,
   "metadata": {},
   "outputs": [],
   "source": [
    "# prepare sequence\n",
    "length = 5\n",
    "seq = array([i/float(length) for i in range(length)])\n",
    "X = seq.reshape(1, length, 1)\n",
    "y = seq.reshape(1, length)\n",
    "# define LSTM configuration\n",
    "n_neurons = length\n",
    "n_batch = 1\n",
    "n_epoch = 500\n",
    "# create LSTM\n",
    "model = Sequential()\n",
    "model.add(LSTM(n_neurons, input_shape=(length, 1)))\n",
    "model.add(Dense(length))\n",
    "model.compile(loss='mean_squared_error', optimizer='adam')\n",
    "print(model.summary())"
   ]
  },
  {
   "cell_type": "code",
   "execution_count": null,
   "metadata": {},
   "outputs": [],
   "source": [
    "# train LSTM\n",
    "model.fit(X, y, epochs=n_epoch, batch_size=n_batch, verbose=2)"
   ]
  },
  {
   "cell_type": "code",
   "execution_count": null,
   "metadata": {},
   "outputs": [],
   "source": [
    "# evaluate\n",
    "result = model.predict(X, batch_size=n_batch, verbose=0)\n",
    "print(X.shape, result.shape)\n",
    "print(X)\n",
    "print(result)\n",
    "for value in result[0,:]:\n",
    "    print('%.1f' % value)"
   ]
  },
  {
   "cell_type": "markdown",
   "metadata": {},
   "source": [
    "## Many-to-Many LSTM for Sequence Prediction (with TimeDistributed)"
   ]
  },
  {
   "cell_type": "code",
   "execution_count": null,
   "metadata": {},
   "outputs": [],
   "source": [
    "# prepare sequence\n",
    "length = 19\n",
    "seq = array([i/float(length) for i in range(length)])\n",
    "X = seq.reshape(1, length, 1)\n",
    "y = seq.reshape(1, length, 1)\n",
    "# define LSTM configuration\n",
    "n_neurons = 5\n",
    "n_batch = 1\n",
    "n_epoch = 500\n",
    "# create LSTM\n",
    "model = Sequential()\n",
    "model.add(LSTM(n_neurons, input_shape=(length, 1), return_sequences=True))\n",
    "model.add(TimeDistributed(Dense(1)))\n",
    "model.compile(loss='mean_squared_error', optimizer='adam')\n",
    "print(model.summary())"
   ]
  },
  {
   "cell_type": "markdown",
   "metadata": {},
   "source": [
    "## Many-to-Many LSTM for Sequence Prediction (without TimeDistributed)"
   ]
  },
  {
   "cell_type": "code",
   "execution_count": null,
   "metadata": {},
   "outputs": [],
   "source": [
    "# prepare sequence\n",
    "length = 19\n",
    "seq = array([i/float(length) for i in range(length)])\n",
    "X = seq.reshape(1, length, 1)\n",
    "y = seq.reshape(1, length, 1)\n",
    "# define LSTM configuration\n",
    "n_neurons = 5\n",
    "n_batch = 1\n",
    "n_epoch = 500\n",
    "# create LSTM\n",
    "model = Sequential()\n",
    "model.add(LSTM(n_neurons, input_shape=(length, 1), return_sequences=True))\n",
    "model.add(Dense(1))\n",
    "model.compile(loss='mean_squared_error', optimizer='adam')\n",
    "print(model.summary())"
   ]
  },
  {
   "cell_type": "code",
   "execution_count": null,
   "metadata": {},
   "outputs": [],
   "source": [
    "# train LSTM\n",
    "model.fit(X, y, epochs=n_epoch, batch_size=n_batch, verbose=1)"
   ]
  },
  {
   "cell_type": "code",
   "execution_count": null,
   "metadata": {
    "scrolled": true
   },
   "outputs": [],
   "source": [
    "# evaluate\n",
    "result = model.predict(X, batch_size=n_batch, verbose=0)\n",
    "print(X.shape, result.shape)\n",
    "for x, value in zip(X[0, :, 0], result[0, :, 0]):\n",
    "    print('{:>.2f} {:>.3f}'.format(x, value))"
   ]
  },
  {
   "cell_type": "code",
   "execution_count": null,
   "metadata": {},
   "outputs": [],
   "source": [
    "# train LSTM\n",
    "model.fit(X, y, epochs=n_epoch, batch_size=n_batch, verbose=1)"
   ]
  },
  {
   "cell_type": "code",
   "execution_count": null,
   "metadata": {
    "scrolled": true
   },
   "outputs": [],
   "source": [
    "# evaluate\n",
    "result = model.predict(X, batch_size=n_batch, verbose=0)\n",
    "print(X.shape, result.shape)\n",
    "for x, value in zip(X[0, :, 0], result[0, :, 0]):\n",
    "    print('{:>.2f} {:>.3f}'.format(x, value))"
   ]
  },
  {
   "cell_type": "code",
   "execution_count": null,
   "metadata": {},
   "outputs": [],
   "source": [
    "import pandas as pd\n",
    "\n",
    "# create a differenced series\n",
    "def difference(dataset, interval=1):\n",
    "    diff = list()\n",
    "    for i in range(interval, len(dataset)):\n",
    "        value = dataset[i] - dataset[i - interval]\n",
    "        diff.append(value)\n",
    "    return pd.Series(diff)\n",
    "\n",
    "# invert differenced value\n",
    "def inverse_difference(history, yhat, interval=1):\n",
    "    return yhat + history[-interval]\n",
    "\n",
    "# load dataset\n",
    "def parser(x):\n",
    "    return pd.datetime.strptime('190'+x, '%Y-%m')\n",
    "series = pd.read_csv('shampoo-sales.csv', header=0, parse_dates=[0], index_col=0, squeeze=True, date_parser=parser)\n",
    "print(series.head())\n",
    "# transform to be stationary\n",
    "differenced = difference(series, 1)\n",
    "print(differenced.head())\n",
    "# invert transform\n",
    "inverted = list()\n",
    "for i in range(len(differenced)):\n",
    "    value = inverse_difference(series, differenced[i], len(series)-i)\n",
    "    inverted.append(value)\n",
    "inverted = pd.Series(inverted)\n",
    "print(inverted.head())"
   ]
  },
  {
   "cell_type": "code",
   "execution_count": null,
   "metadata": {},
   "outputs": [],
   "source": [
    "batch_size = 1 # this example is too small to use anything larger than 1.\n",
    "window_size = 7  # This is the size after unrolling.\n",
    "n_features = 1  # Assume each red square represents a single number.\n",
    "n_layers = 3  # These are the middle 3 horizontal layers.\n",
    "n_neurons = 2  # One neuron for the green block(s) and one for the yellow.\n",
    "n_outputs = 7  # because it's many to many.\n",
    "\n",
    "seq = array([i/float(length) for i in range(length)])\n",
    "X = seq.reshape(1, length, 1)\n",
    "y = seq.reshape(1, length)\n",
    "\n",
    "x = Input(batch_shape=(batch_size, window_size, n_features))  # bottom row of red blocks.\n",
    "h = LSTM(n_neurons, return_sequences=True)(x)  # hidden layer 1\n",
    "h = LSTM(n_neurons, return_sequences=True)(h)  # hidden layer 2\n",
    "h = LSTM(n_neurons, return_sequences=True)(h)  # hidden layer 3\n",
    "z = TimeDistributed(Dense(n_outputs, activation='softmax'))(h)  # top row of blue blocks\n",
    "model = Model(inputs=[x],outputs=[z])\n",
    "model.compile(loss='categorical_crossentropy', optimizer='rmsprop', metrics=['accuracy'])\n",
    "model.summary()"
   ]
  },
  {
   "cell_type": "markdown",
   "metadata": {},
   "source": [
    "# Stateful Test "
   ]
  },
  {
   "cell_type": "code",
   "execution_count": null,
   "metadata": {},
   "outputs": [],
   "source": [
    "from pandas import DataFrame\n",
    "from pandas import Series\n",
    "from pandas import concat\n",
    "from pandas import read_csv\n",
    "from pandas import datetime\n",
    "from sklearn.metrics import mean_squared_error\n",
    "from sklearn.preprocessing import MinMaxScaler\n",
    "from keras.models import Sequential\n",
    "from keras.layers import Dense\n",
    "from keras.layers import LSTM\n",
    "from math import sqrt\n",
    "import matplotlib\n",
    "import numpy\n",
    "from numpy import concatenate\n",
    "\n",
    "# date-time parsing function for loading the dataset\n",
    "def parser(x):\n",
    "    return datetime.strptime('190'+x, '%Y-%m')\n",
    "\n",
    "# frame a sequence as a supervised learning problem\n",
    "def timeseries_to_supervised(data, lag=1):\n",
    "    df = DataFrame(data)\n",
    "    columns = [df.shift(i) for i in range(1, lag+1)]\n",
    "    columns.append(df)\n",
    "    df = concat(columns, axis=1)\n",
    "    return df\n",
    "\n",
    "# create a differenced series\n",
    "def difference(dataset, interval=1):\n",
    "    diff = list()\n",
    "    for i in range(interval, len(dataset)):\n",
    "        value = dataset[i] - dataset[i - interval]\n",
    "    diff.append(value)\n",
    "    return Series(diff)\n",
    "\n",
    "# invert differenced value\n",
    "def inverse_difference(history, yhat, interval=1):\n",
    "    return yhat + history[-interval]\n",
    "\n",
    "# scale train and test data to [-1, 1]\n",
    "def scale(train, test):\n",
    "    # fit scaler\n",
    "    scaler = MinMaxScaler(feature_range=(-1, 1))\n",
    "    scaler = scaler.fit(train)\n",
    "    # transform train\n",
    "    train = train.reshape(train.shape[0], train.shape[1])\n",
    "    train_scaled = scaler.transform(train)\n",
    "    # transform test\n",
    "    test = test.reshape(test.shape[0], test.shape[1])\n",
    "    test_scaled = scaler.transform(test)\n",
    "    return scaler, train_scaled, test_scaled\n",
    "\n",
    "# inverse scaling for a forecasted value\n",
    "def invert_scale(scaler, X, yhat):\n",
    "    new_row = [x for x in X] + [yhat]\n",
    "    array = numpy.array(new_row)\n",
    "    array = array.reshape(1, len(array))\n",
    "    inverted = scaler.inverse_transform(array)\n",
    "    return inverted[0, -1]\n",
    "\n",
    "# fit an LSTM network to training data\n",
    "def fit_lstm(train, batch_size, nb_epoch, neurons):\n",
    "    X, y = train[:, 0:-1], train[:, -1]\n",
    "    X = X.reshape(X.shape[0], 1, X.shape[1])\n",
    "    model = Sequential()\n",
    "    model.add(LSTM(neurons, batch_input_shape=(batch_size, X.shape[1], X.shape[2]), stateful=True))\n",
    "    model.add(Dense(1))\n",
    "    model.compile(loss='mean_squared_error', optimizer='adam')\n",
    "    for i in range(nb_epoch):\n",
    "        model.fit(X, y, epochs=1, batch_size=batch_size, verbose=0, shuffle=False)\n",
    "        model.reset_states()\n",
    "    return model\n",
    "\n",
    "# make a one-step forecast\n",
    "def forecast_lstm(model, batch_size, X):\n",
    "    X = X.reshape(1, 1, len(X))\n",
    "    yhat = model.predict(X, batch_size=batch_size)\n",
    "    return yhat[0,0]\n",
    "\n",
    "# run a repeated experiment\n",
    "def experiment(repeats, series):\n",
    "    # transform data to be stationary\n",
    "    raw_values = series.values\n",
    "    diff_values = difference(raw_values, 1)\n",
    "    # transform data to be supervised learning\n",
    "    supervised = timeseries_to_supervised(diff_values, 1)\n",
    "    supervised_values = supervised.values[1:,:]\n",
    "    # split data into train and test-sets\n",
    "    train, test = supervised_values[0:-12, :], supervised_values[-12:, :]\n",
    "    # transform the scale of the data\n",
    "    scaler, train_scaled, test_scaled = scale(train, test)\n",
    "    # run experiment\n",
    "    error_scores = list()\n",
    "    for r in range(repeats):\n",
    "        # fit the base model\n",
    "        lstm_model = fit_lstm(train_scaled, 1, 1000, 1)\n",
    "        # forecast test dataset\n",
    "        predictions = list()\n",
    "        for i in range(len(test_scaled)):\n",
    "            # predict\n",
    "            X, y = test_scaled[i, 0:-1], test_scaled[i, -1]\n",
    "            yhat = forecast_lstm(lstm_model, 1, X)\n",
    "            # invert scaling\n",
    "            yhat = invert_scale(scaler, X, yhat)\n",
    "            # invert differencing\n",
    "            yhat = inverse_difference(raw_values, yhat, len(test_scaled)+1-i)\n",
    "            # store forecast\n",
    "            predictions.append(yhat)\n",
    "        # report performance\n",
    "        rmse = sqrt(mean_squared_error(raw_values[-12:], predictions))\n",
    "        print('%d) Test RMSE: %.3f' % (r+1, rmse))\n",
    "        error_scores.append(rmse)\n",
    "    return error_scores\n",
    "\n",
    "# execute the experiment\n",
    "def run():\n",
    "    # load dataset\n",
    "    series = read_csv('shampoo-sales.csv', header=0, parse_dates=[0], index_col=0, squeeze=True, date_parser=parser)\n",
    "    # experiment\n",
    "    repeats = 10\n",
    "    results = DataFrame()\n",
    "    # run experiment\n",
    "    results['results'] = experiment(repeats, series)\n",
    "    # summarize results\n",
    "    print(results.describe())\n",
    "    # save results\n",
    "    results.to_csv('experiment_stateful.csv', index=False)\n",
    "\n",
    " # entry point\n",
    "run()"
   ]
  },
  {
   "cell_type": "code",
   "execution_count": null,
   "metadata": {},
   "outputs": [],
   "source": [
    "# fit an LSTM network to training data. stateful=True, shuffle=False\n",
    "def fit_lstm(train, batch_size, nb_epoch, neurons):\n",
    "    X, y = train[:, 0:-1], train[:, -1]\n",
    "    X = X.reshape(X.shape[0], 1, X.shape[1])\n",
    "    model = Sequential()\n",
    "    model.add(LSTM(neurons, batch_input_shape=(batch_size, X.shape[1], X.shape[2]), stateful=True))\n",
    "    model.add(Dense(1))\n",
    "    model.compile(loss='mean_squared_error', optimizer='adam')\n",
    "    for i in range(nb_epoch):\n",
    "        model.fit(X, y, epochs=1, batch_size=batch_size, verbose=0, shuffle=False)\n",
    "        model.reset_states()\n",
    "    return model"
   ]
  },
  {
   "cell_type": "code",
   "execution_count": null,
   "metadata": {},
   "outputs": [],
   "source": [
    "# fit an LSTM network to training data. stateful=False, shuffle=False\n",
    "def fit_lstm(train, batch_size, nb_epoch, neurons):\n",
    "    X, y = train[:, 0:-1], train[:, -1]\n",
    "    X = X.reshape(X.shape[0], 1, X.shape[1])\n",
    "    model = Sequential()\n",
    "    model.add(LSTM(neurons, batch_input_shape=(batch_size, X.shape[1], X.shape[2]), stateful=False))\n",
    "    model.add(Dense(1))\n",
    "    model.compile(loss='mean_squared_error', optimizer='adam')\n",
    "    model.fit(X, y, epochs=nb_epoch, batch_size=batch_size, verbose=0, shuffle=False)\n",
    "    return model"
   ]
  },
  {
   "cell_type": "code",
   "execution_count": null,
   "metadata": {},
   "outputs": [],
   "source": [
    "# fit an LSTM network to training data. stateful=False, shuffle=True\n",
    "def fit_lstm(train, batch_size, nb_epoch, neurons):\n",
    "    X, y = train[:, 0:-1], train[:, -1]\n",
    "    X = X.reshape(X.shape[0], 1, X.shape[1])\n",
    "    model = Sequential()\n",
    "    model.add(LSTM(neurons, batch_input_shape=(batch_size, X.shape[1], X.shape[2]), stateful=False))\n",
    "    model.add(Dense(1))\n",
    "    model.compile(loss='mean_squared_error', optimizer='adam')\n",
    "    model.fit(X, y, epochs=nb_epoch, batch_size=batch_size, verbose=0, shuffle=True)\n",
    "    return model"
   ]
  },
  {
   "cell_type": "code",
   "execution_count": null,
   "metadata": {},
   "outputs": [],
   "source": [
    "from pandas import DataFrame\n",
    "from pandas import read_csv\n",
    "from matplotlib import pyplot\n",
    "# load results into a dataframe\n",
    "filenames = ['experiment_stateful.csv', 'experiment_stateful2.csv']\n",
    "results = DataFrame()\n",
    "for name in filenames:\n",
    "    results[name[11:-4]] = read_csv(name, header=0)\n",
    "# describe all results\n",
    "print(results.describe())\n",
    "# box and whisker plot\n",
    "results.boxplot()\n",
    "pyplot.show()"
   ]
  },
  {
   "cell_type": "code",
   "execution_count": null,
   "metadata": {},
   "outputs": [],
   "source": [
    "from pandas import DataFrame\n",
    "from pandas import read_csv\n",
    "from matplotlib import pyplot\n",
    "# load results into a dataframe\n",
    "filenames = ['experiment_stateful.csv', 'experiment_stateless.csv', 'experiment_stateless_shuffle.csv']\n",
    "results = DataFrame()\n",
    "for name in filenames:\n",
    "    results[name[11:-4]] = read_csv(name, header=0)\n",
    "# describe all results\n",
    "print(results.describe())\n",
    "# box and whisker plot\n",
    "results.boxplot()\n",
    "pyplot.show()\n"
   ]
  }
 ],
 "metadata": {
  "kernelspec": {
   "display_name": "Python 3",
   "language": "python",
   "name": "python3"
  },
  "language_info": {
   "codemirror_mode": {
    "name": "ipython",
    "version": 3
   },
   "file_extension": ".py",
   "mimetype": "text/x-python",
   "name": "python",
   "nbconvert_exporter": "python",
   "pygments_lexer": "ipython3",
   "version": "3.6.6"
  }
 },
 "nbformat": 4,
 "nbformat_minor": 2
}
