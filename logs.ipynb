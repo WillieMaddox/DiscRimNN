{
 "cells": [
  {
   "cell_type": "markdown",
   "metadata": {
    "slideshow": {
     "slide_type": "slide"
    }
   },
   "source": [
    "# DiscRimNN \n",
    "### By Willie Maddox\n",
    "## Problem A\n",
    "Create a model that reads a sequence of numbers and classifies the last number in the sequence based on the previous numbers in the sequence.\n",
    "\n",
    "## Problem B\n",
    "Create a model that reads a sequence of numbers, one number at a time, and classify that number based on all previously seen numbers."
   ]
  },
  {
   "cell_type": "markdown",
   "metadata": {
    "slideshow": {
     "slide_type": "slide"
    }
   },
   "source": [
    "## Build a signal generator\n",
    "\n",
    "The signal generator builds waves using the standard form:"
   ]
  },
  {
   "cell_type": "markdown",
   "metadata": {
    "slideshow": {
     "slide_type": "-"
    }
   },
   "source": [
    "$$x(t) = h + A\\sin\\left(\\frac{2\\pi t}{T} + \\phi\\right)$$"
   ]
  },
  {
   "cell_type": "markdown",
   "metadata": {
    "slideshow": {
     "slide_type": "-"
    }
   },
   "source": [
    "where $h$ is the height (vertical offset), $A$ is the amplitude (vertical scale), $T$ is the period (horizontal scale), and $\\phi$ is the phase (horizontal offset). An optional $\\Delta$ value can also be assigned to each of these 4 variables. These variables give us fine grained control over how we construct our waves and the $\\Delta$ values allow us to introduce randomness in the variables."
   ]
  },
  {
   "cell_type": "code",
   "execution_count": null,
   "metadata": {
    "slideshow": {
     "slide_type": "subslide"
    }
   },
   "outputs": [],
   "source": [
    "from discrimnn.signal import MixedSignal"
   ]
  },
  {
   "cell_type": "markdown",
   "metadata": {
    "slideshow": {
     "slide_type": "slide"
    }
   },
   "source": [
    "# Trivial Case: Offset (-3, 0, 3)\n",
    "\n",
    "<img src=\"out/offset_30/signals.png\" width=\"1000\">\n",
    "\n",
    "<img src=\"out/offset_30/mixedsignal.png\" width=\"1000\">\n",
    "\n",
    "<img src=\"out/offset_30/mixedsignal_with_truth.png\" width=\"1000\">"
   ]
  },
  {
   "cell_type": "code",
   "execution_count": null,
   "metadata": {
    "slideshow": {
     "slide_type": "subslide"
    }
   },
   "outputs": [],
   "source": [
    "# start off with simplest case for proof of concept\n",
    "time_coeffs = {'start': 0, 'stop': 75, 'n_timestamps': 301, 'n_timesteps': 10}\n",
    "\n",
    "sig1_coeffs = {'name': 'A', 'offset': {'mean': -3}, 'color': '#ff0000'}\n",
    "sig2_coeffs = {'name': 'B', 'offset': {'mean': 0}, 'color': '#00ff00'}\n",
    "sig3_coeffs = {'name': 'C', 'offset': {'mean': 3}, 'color': '#0000ff'}\n",
    "sig_coeffs = [sig1_coeffs, sig2_coeffs, sig3_coeffs]\n",
    "\n",
    "msig_coeffs = {'phase': {'mean': 0, 'delta': np.pi}, 'period': {'mean': 25}}\n",
    "\n",
    "msig = MixedSignal(time_coeffs, sig_coeffs, msig_coeffs, method='sliding')"
   ]
  },
  {
   "cell_type": "markdown",
   "metadata": {
    "cell_style": "center",
    "slideshow": {
     "slide_type": "subslide"
    }
   },
   "source": [
    "<img src=\"out/offset_30/mixedsignal_table.png\" width=\"300\">"
   ]
  },
  {
   "cell_type": "markdown",
   "metadata": {
    "slideshow": {
     "slide_type": "slide"
    }
   },
   "source": [
    "## Next define the RNN\n",
    "\n",
    "```python\n",
    "model = Sequential()\n",
    "model.add(LSTM(32, batch_input_shape=(4, 10, 1), stateful=True, return_sequences=True))\n",
    "model.add(LSTM(32, stateful=True))\n",
    "model.add(Dense(n_signals, activation='softmax'))\n",
    "model.compile(loss='categorical_crossentropy', optimizer='rmsprop', metrics=['accuracy'])\n",
    "model.summary()\n",
    "```\n",
    "\n",
    "<img src=\"out/offset_30/model_plot.png\" width=\"400\">"
   ]
  },
  {
   "cell_type": "markdown",
   "metadata": {
    "slideshow": {
     "slide_type": "slide"
    }
   },
   "source": [
    "## Now train the model\n",
    "\n",
    "```python\n",
    "n_generations = 20\n",
    "for i in range(n_generations):\n",
    "    X, y = msig.generate()\n",
    "    history = model.fit(X, y, epochs=1, batch_size=batch_size, verbose=1, shuffle=False)\n",
    "    model.reset_states()\n",
    "```\n",
    "\n",
    "## Results (training loss, accuracy, and test)\n",
    "\n",
    "<img src=\"out/offset_30/loss_acc.png\" width=\"1000\">\n",
    "\n",
    "<img src=\"out/offset_30/eval_pred.png\" width=\"1000\">"
   ]
  },
  {
   "cell_type": "markdown",
   "metadata": {
    "slideshow": {
     "slide_type": "slide"
    }
   },
   "source": [
    "# Offset (-0.5, 0, 0.5)\n",
    "\n",
    "<img src=\"out/offset_050/signals.png\" width=\"1000\">\n",
    "<img src=\"out/offset_050/mixedsignal.png\" width=\"1000\">\n",
    "<img src=\"out/offset_050/mixedsignal_with_truth.png\" width=\"1000\">"
   ]
  },
  {
   "cell_type": "markdown",
   "metadata": {
    "slideshow": {
     "slide_type": "slide"
    }
   },
   "source": [
    "# Offset (-0.5, 0, 0.5) - Results\n",
    "\n",
    "<img src=\"out/offset_050/loss_acc.png\" width=\"1000\">\n",
    "<img src=\"out/offset_050/eval_pred.png\" width=\"1000\">"
   ]
  },
  {
   "cell_type": "markdown",
   "metadata": {
    "slideshow": {
     "slide_type": "slide"
    }
   },
   "source": [
    "# Offset (-0.1, 0, 0.1)\n",
    "\n",
    "<img src=\"out/offset_010/signals.png\" width=\"1000\">\n",
    "\n",
    "<img src=\"out/offset_010/mixedsignal.png\" width=\"1000\">\n",
    "\n",
    "<img src=\"out/offset_010/mixedsignal_with_truth.png\" width=\"1000\">"
   ]
  },
  {
   "cell_type": "markdown",
   "metadata": {
    "slideshow": {
     "slide_type": "slide"
    }
   },
   "source": [
    "# Offset (-0.1, 0, 0.1) - Results\n",
    "\n",
    "<img src=\"out/offset_010/loss_acc.png\" width=\"1000\">\n",
    "<img src=\"out/offset_010/eval_pred.png\" width=\"1000\">"
   ]
  },
  {
   "cell_type": "markdown",
   "metadata": {
    "slideshow": {
     "slide_type": "slide"
    }
   },
   "source": [
    "# Phase (0, $\\pi$, 0)\n",
    "\n",
    "<img src=\"out/phase_010/signals.png\" width=\"1000\">\n",
    "<img src=\"out/phase_010/mixedsignal.png\" width=\"1000\">\n",
    "<img src=\"out/phase_010/mixedsignal_with_truth.png\" width=\"1000\">"
   ]
  },
  {
   "cell_type": "markdown",
   "metadata": {
    "slideshow": {
     "slide_type": "slide"
    }
   },
   "source": [
    "# Phase (0, $\\pi$, 0) - Results\n",
    "\n",
    "<img src=\"out/phase_010/loss_acc.png\" width=\"1000\">\n",
    "<img src=\"out/phase_010/eval_pred.png\" width=\"1000\">"
   ]
  },
  {
   "cell_type": "markdown",
   "metadata": {
    "slideshow": {
     "slide_type": "slide"
    }
   },
   "source": [
    "# Summary\n",
    " 1. Full control over dataset\n",
    " 2. Dataset is infinite\n",
    " 3. Model never sees the same sample twice.\n",
    " 4. Can study all three RNN base problems (classification, prediction, forcasting).\n",
    " 5. Great way to zero in on and study a particular aspect of RNN's\n",
    "\n",
    "# Future work (TODO list)\n",
    " - [x] create single signal generator class\n",
    " - [x] create mixed signal generator class\n",
    " - [ ] create signal noise functions (Gaussian, OU, etc.)\n",
    " - [ ] create timestep noise functions \n",
    " - [x] add legends to plots.\n",
    " - [ ] during training, save outlier X, y train sets to file for further analysis.\n",
    " - [x] save configuration of mixed signal properties as json for housekeeping.\n",
    " - [ ] make plots of the mixed signal with colors mapped to hidden layers, lstm states, etc.\n",
    " - [ ] unit tests for signal.py\n",
    " - [ ] create startup.py to handle project directories and other goodies.\n",
    " - [ ] fix savefig clipping the bottoms of our figures."
   ]
  }
 ],
 "metadata": {
  "celltoolbar": "Slideshow",
  "kernelspec": {
   "display_name": "Python 3",
   "language": "python",
   "name": "python3"
  },
  "language_info": {
   "codemirror_mode": {
    "name": "ipython",
    "version": 3
   },
   "file_extension": ".py",
   "mimetype": "text/x-python",
   "name": "python",
   "nbconvert_exporter": "python",
   "pygments_lexer": "ipython3",
   "version": "3.6.4"
  }
 },
 "nbformat": 4,
 "nbformat_minor": 2
}
